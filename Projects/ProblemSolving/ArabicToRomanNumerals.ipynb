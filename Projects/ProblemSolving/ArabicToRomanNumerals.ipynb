{
 "metadata": {
  "language_info": {
   "codemirror_mode": {
    "name": "ipython",
    "version": 3
   },
   "file_extension": ".py",
   "mimetype": "text/x-python",
   "name": "python",
   "nbconvert_exporter": "python",
   "pygments_lexer": "ipython3",
   "version": "3.8.0-final"
  },
  "orig_nbformat": 2,
  "kernelspec": {
   "name": "python3",
   "display_name": "Python 3.8.0 64-bit",
   "metadata": {
    "interpreter": {
     "hash": "ac59ebe37160ed0dfa835113d9b8498d9f09ceb179beaac4002f036b9467c963"
    }
   }
  }
 },
 "nbformat": 4,
 "nbformat_minor": 2,
 "cells": [
  {
   "cell_type": "code",
   "execution_count": 74,
   "metadata": {},
   "outputs": [],
   "source": [
    "def RomanToNum(numm):\n",
    "    rom = ''\n",
    "    n = 0\n",
    "    myset = (\n",
    "            (1000,'M'),\n",
    "            (900,'CM'),\n",
    "            (500,'D'),\n",
    "            (400,'CD'),\n",
    "            (100,'C'),\n",
    "            (90,'XC'),\n",
    "            (50,'L'),\n",
    "            (40,'XL'),\n",
    "            (10,'X'),\n",
    "            (9,'IX'),\n",
    "            (5,'V'),\n",
    "            (4,'IV'),\n",
    "            (1,'I')  \n",
    "            )\n",
    "    while numm > 0:\n",
    "        for i, j in myset:\n",
    "            while numm >= i:\n",
    "                rom += j\n",
    "                numm -= i\n",
    "    return rom\n",
    "\n",
    "\n"
   ]
  },
  {
   "cell_type": "code",
   "execution_count": 79,
   "metadata": {},
   "outputs": [
    {
     "output_type": "execute_result",
     "data": {
      "text/plain": [
       "'MCMXLV'"
      ]
     },
     "metadata": {},
     "execution_count": 79
    }
   ],
   "source": [
    "RomanToNum(1945)"
   ]
  }
 ]
}