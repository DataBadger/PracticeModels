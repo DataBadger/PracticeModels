{
 "metadata": {
  "language_info": {
   "codemirror_mode": {
    "name": "ipython",
    "version": 3
   },
   "file_extension": ".py",
   "mimetype": "text/x-python",
   "name": "python",
   "nbconvert_exporter": "python",
   "pygments_lexer": "ipython3",
   "version": "3.8.0-final"
  },
  "orig_nbformat": 2,
  "kernelspec": {
   "name": "python3",
   "display_name": "Python 3.8.0 64-bit",
   "metadata": {
    "interpreter": {
     "hash": "ac59ebe37160ed0dfa835113d9b8498d9f09ceb179beaac4002f036b9467c963"
    }
   }
  }
 },
 "nbformat": 4,
 "nbformat_minor": 2,
 "cells": [
  {
   "cell_type": "code",
   "execution_count": 126,
   "metadata": {},
   "outputs": [],
   "source": [
    "# Not working, needs further development\n",
    "# datasource -> https://www.kaggle.com/zynicide/wine-reviews?select=winemag-data_first150k.csv\n",
    "import pandas as pd \n",
    "import numpy as np \n",
    "import matplotlib.pyplot as plt "
   ]
  },
  {
   "cell_type": "code",
   "execution_count": 210,
   "metadata": {},
   "outputs": [],
   "source": [
    "df = pd.read_csv(\"C:\\\\Users\\\\Sasha\\\\Desktop\\\\Py\\\\Git\\\\PracticeModels\\\\Projects\\\\WineScore\\\\winemag-data_first150k.csv\")"
   ]
  },
  {
   "cell_type": "code",
   "execution_count": 198,
   "metadata": {},
   "outputs": [
    {
     "output_type": "execute_result",
     "data": {
      "text/plain": [
       "   Unnamed: 0 country                                        description  \\\n",
       "0           0      US  This tremendous 100% varietal wine hails from ...   \n",
       "1           1   Spain  Ripe aromas of fig, blackberry and cassis are ...   \n",
       "2           2      US  Mac Watson honors the memory of a wine once ma...   \n",
       "3           3      US  This spent 20 months in 30% new French oak, an...   \n",
       "4           4  France  This is the top wine from La Bégude, named aft...   \n",
       "\n",
       "                            designation  points  price        province  \\\n",
       "0                     Martha's Vineyard      96  235.0      California   \n",
       "1  Carodorum Selección Especial Reserva      96  110.0  Northern Spain   \n",
       "2         Special Selected Late Harvest      96   90.0      California   \n",
       "3                               Reserve      96   65.0          Oregon   \n",
       "4                            La Brûlade      95   66.0        Provence   \n",
       "\n",
       "            region_1           region_2             variety  \\\n",
       "0        Napa Valley               Napa  Cabernet Sauvignon   \n",
       "1               Toro                NaN       Tinta de Toro   \n",
       "2     Knights Valley             Sonoma     Sauvignon Blanc   \n",
       "3  Willamette Valley  Willamette Valley          Pinot Noir   \n",
       "4             Bandol                NaN  Provence red blend   \n",
       "\n",
       "                    winery  \n",
       "0                    Heitz  \n",
       "1  Bodega Carmen Rodríguez  \n",
       "2                 Macauley  \n",
       "3                    Ponzi  \n",
       "4     Domaine de la Bégude  "
      ],
      "text/html": "<div>\n<style scoped>\n    .dataframe tbody tr th:only-of-type {\n        vertical-align: middle;\n    }\n\n    .dataframe tbody tr th {\n        vertical-align: top;\n    }\n\n    .dataframe thead th {\n        text-align: right;\n    }\n</style>\n<table border=\"1\" class=\"dataframe\">\n  <thead>\n    <tr style=\"text-align: right;\">\n      <th></th>\n      <th>Unnamed: 0</th>\n      <th>country</th>\n      <th>description</th>\n      <th>designation</th>\n      <th>points</th>\n      <th>price</th>\n      <th>province</th>\n      <th>region_1</th>\n      <th>region_2</th>\n      <th>variety</th>\n      <th>winery</th>\n    </tr>\n  </thead>\n  <tbody>\n    <tr>\n      <th>0</th>\n      <td>0</td>\n      <td>US</td>\n      <td>This tremendous 100% varietal wine hails from ...</td>\n      <td>Martha's Vineyard</td>\n      <td>96</td>\n      <td>235.0</td>\n      <td>California</td>\n      <td>Napa Valley</td>\n      <td>Napa</td>\n      <td>Cabernet Sauvignon</td>\n      <td>Heitz</td>\n    </tr>\n    <tr>\n      <th>1</th>\n      <td>1</td>\n      <td>Spain</td>\n      <td>Ripe aromas of fig, blackberry and cassis are ...</td>\n      <td>Carodorum Selección Especial Reserva</td>\n      <td>96</td>\n      <td>110.0</td>\n      <td>Northern Spain</td>\n      <td>Toro</td>\n      <td>NaN</td>\n      <td>Tinta de Toro</td>\n      <td>Bodega Carmen Rodríguez</td>\n    </tr>\n    <tr>\n      <th>2</th>\n      <td>2</td>\n      <td>US</td>\n      <td>Mac Watson honors the memory of a wine once ma...</td>\n      <td>Special Selected Late Harvest</td>\n      <td>96</td>\n      <td>90.0</td>\n      <td>California</td>\n      <td>Knights Valley</td>\n      <td>Sonoma</td>\n      <td>Sauvignon Blanc</td>\n      <td>Macauley</td>\n    </tr>\n    <tr>\n      <th>3</th>\n      <td>3</td>\n      <td>US</td>\n      <td>This spent 20 months in 30% new French oak, an...</td>\n      <td>Reserve</td>\n      <td>96</td>\n      <td>65.0</td>\n      <td>Oregon</td>\n      <td>Willamette Valley</td>\n      <td>Willamette Valley</td>\n      <td>Pinot Noir</td>\n      <td>Ponzi</td>\n    </tr>\n    <tr>\n      <th>4</th>\n      <td>4</td>\n      <td>France</td>\n      <td>This is the top wine from La Bégude, named aft...</td>\n      <td>La Brûlade</td>\n      <td>95</td>\n      <td>66.0</td>\n      <td>Provence</td>\n      <td>Bandol</td>\n      <td>NaN</td>\n      <td>Provence red blend</td>\n      <td>Domaine de la Bégude</td>\n    </tr>\n  </tbody>\n</table>\n</div>"
     },
     "metadata": {},
     "execution_count": 198
    }
   ],
   "source": [
    "df.head()"
   ]
  },
  {
   "cell_type": "code",
   "execution_count": 211,
   "metadata": {},
   "outputs": [],
   "source": [
    "df.drop(df.columns[[0,2,3,8,10]], axis=1, inplace=True)"
   ]
  },
  {
   "cell_type": "code",
   "execution_count": 200,
   "metadata": {},
   "outputs": [
    {
     "output_type": "stream",
     "name": "stdout",
     "text": [
      "<class 'pandas.core.frame.DataFrame'>\nRangeIndex: 150930 entries, 0 to 150929\nData columns (total 6 columns):\n #   Column    Non-Null Count   Dtype  \n---  ------    --------------   -----  \n 0   country   150925 non-null  object \n 1   points    150930 non-null  int64  \n 2   price     137235 non-null  float64\n 3   province  150925 non-null  object \n 4   region_1  125870 non-null  object \n 5   variety   150930 non-null  object \ndtypes: float64(1), int64(1), object(4)\nmemory usage: 6.9+ MB\n"
     ]
    }
   ],
   "source": [
    "df.info()"
   ]
  },
  {
   "cell_type": "code",
   "execution_count": 212,
   "metadata": {},
   "outputs": [],
   "source": [
    "df.dropna(axis=0, inplace=True)"
   ]
  },
  {
   "cell_type": "code",
   "execution_count": 213,
   "metadata": {},
   "outputs": [],
   "source": [
    "y = df.iloc[:,1].values\n",
    "df.drop(df.columns[1],axis=1,inplace=True)"
   ]
  },
  {
   "cell_type": "code",
   "execution_count": 251,
   "metadata": {},
   "outputs": [
    {
     "output_type": "execute_result",
     "data": {
      "text/plain": [
       "array(['US', 'Spain', 'France', 'Italy', 'Argentina', 'Australia',\n",
       "       'Canada'], dtype=object)"
      ]
     },
     "metadata": {},
     "execution_count": 251
    }
   ],
   "source": [
    "df['country'].unique()"
   ]
  },
  {
   "cell_type": "code",
   "execution_count": 238,
   "metadata": {},
   "outputs": [],
   "source": [
    "X = pd.get_dummies(df, columns=[\"country\", \"province\", \"region_1\", \"variety\"], drop_first=True)"
   ]
  },
  {
   "cell_type": "code",
   "execution_count": 239,
   "metadata": {},
   "outputs": [],
   "source": [
    "X = X.iloc[:, :].values\n"
   ]
  },
  {
   "cell_type": "code",
   "execution_count": 240,
   "metadata": {},
   "outputs": [],
   "source": [
    "from sklearn.model_selection import train_test_split\n",
    "X_train, X_test, y_train, y_test = train_test_split(X, y, test_size = 0.2, random_state=0)"
   ]
  },
  {
   "cell_type": "code",
   "execution_count": 255,
   "metadata": {},
   "outputs": [
    {
     "output_type": "execute_result",
     "data": {
      "text/plain": [
       "array([[20.],\n",
       "       [24.],\n",
       "       [22.],\n",
       "       ...,\n",
       "       [47.],\n",
       "       [55.],\n",
       "       [31.]])"
      ]
     },
     "metadata": {},
     "execution_count": 255
    }
   ],
   "source": [
    "X_train[:,[0]]"
   ]
  },
  {
   "cell_type": "code",
   "execution_count": 257,
   "metadata": {},
   "outputs": [
    {
     "output_type": "execute_result",
     "data": {
      "text/plain": [
       "array([[ 0.35885911],\n",
       "       [-0.60504473],\n",
       "       [-0.65859495],\n",
       "       ...,\n",
       "       [-0.17664303],\n",
       "       [-0.41761899],\n",
       "       [-0.39084388]])"
      ]
     },
     "metadata": {},
     "execution_count": 257
    }
   ],
   "source": [
    "from sklearn.preprocessing import StandardScaler\n",
    "sc = StandardScaler()\n",
    "sc.fit_transform(X_train[:,[0]])\n",
    "sc.transform(X_test[:,[0]])"
   ]
  },
  {
   "cell_type": "code",
   "execution_count": 261,
   "metadata": {},
   "outputs": [],
   "source": [
    "from sklearn.linear_model import LogisticRegression\n",
    "lr = LogisticRegression()\n",
    "lr.fit(X_train, y_train)\n",
    "y_pred = lr.predict(X_test)"
   ]
  },
  {
   "cell_type": "code",
   "execution_count": 262,
   "metadata": {},
   "outputs": [
    {
     "output_type": "stream",
     "name": "stdout",
     "text": [
      "[[   0    0    0    0   53    0    3   76    8    0    3    1    2    0\n     0    0    0    0    0    0    0]\n [   0    0    0    0   80    0    3  139   11    0   11    0    0    1\n     0    0    0    0    0    0    0]\n [   0    0    0    0  263    0   13  355   39    0   33    0    6    0\n     0    0    0    0    0    0    0]\n [   0    0    0    0  321    0   19  511   63    2   39    2    4    1\n     0    0    0    0    0    0    0]\n [   0    0    0    0  557    0   39  859   80    0  104    1   16    2\n     0    0    0    0    0    0    0]\n [   0    0    0    0  443    0   35 1080  173    2  135    2   25    5\n     0    0    0    0    0    0    0]\n [   0    0    0    0  422    0   53 1326  244    2  206    4   37    3\n     0    0    0    0    0    0    0]\n [   0    0    0    0  502    0   89 1679  376   14  400   12   67    8\n     0    0    0    0    0    0    0]\n [   0    0    0    0  247    0   51 1216  522    7  439   20   54   19\n     0    0    0    0    0    0    0]\n [   0    0    0    0  149    0   37  747  308   10  459   48   60   31\n     0    0    0    0    0    0    0]\n [   0    0    0    0  205    0   59  782  409   12  747   56  103   34\n     1    0    0    0    0    0    0]\n [   0    0    0    0   87    0   38  349  290   17  563   66   87   50\n     0    0    0    0    0    0    0]\n [   0    0    0    0   41    0   36  219  156   11  649   87  152   66\n     1    0    0    0    0    0    0]\n [   0    0    0    0   21    0    8   89   89    7  438   95  158  105\n     2    0    0    0    0    0    0]\n [   0    0    0    0    3    0    0   32   32    1  231   43  114   97\n     3    0    0    0    0    0    0]\n [   0    0    0    0    0    0    3    8    5    1   73   20   69   79\n     4    0    0    0    0    0    0]\n [   0    0    0    0    0    0    2    1    2    2   20   15   25   34\n     4    0    0    0    0    0    0]\n [   0    0    0    0    0    0    0    0    0    0    8    6   20   23\n     2    0    0    0    0    0    0]\n [   0    0    0    0    0    0    0    0    0    0    2    0    0   13\n     2    0    0    0    0    0    0]\n [   0    0    0    0    0    0    0    0    0    0    0    0    2    2\n     0    0    0    0    0    0    0]\n [   0    0    0    0    0    0    0    0    0    0    0    0    1    2\n     0    0    0    0    0    0    0]]\n"
     ]
    },
    {
     "output_type": "execute_result",
     "data": {
      "text/plain": [
       "0.17019974649241662"
      ]
     },
     "metadata": {},
     "execution_count": 262
    }
   ],
   "source": [
    "from sklearn.metrics import confusion_matrix, accuracy_score\n",
    "cm = confusion_matrix(y_test, y_pred)\n",
    "print(cm)\n",
    "accuracy_score(y_test, y_pred)"
   ]
  }
 ]
}