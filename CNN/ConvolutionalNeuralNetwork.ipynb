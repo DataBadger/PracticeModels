{
 "metadata": {
  "language_info": {
   "codemirror_mode": {
    "name": "ipython",
    "version": 3
   },
   "file_extension": ".py",
   "mimetype": "text/x-python",
   "name": "python",
   "nbconvert_exporter": "python",
   "pygments_lexer": "ipython3",
   "version": "3.8.0-final"
  },
  "orig_nbformat": 2,
  "kernelspec": {
   "name": "python3",
   "display_name": "Python 3.8.0 64-bit",
   "metadata": {
    "interpreter": {
     "hash": "ac59ebe37160ed0dfa835113d9b8498d9f09ceb179beaac4002f036b9467c963"
    }
   }
  }
 },
 "nbformat": 4,
 "nbformat_minor": 2,
 "cells": [
  {
   "cell_type": "code",
   "execution_count": 4,
   "metadata": {},
   "outputs": [],
   "source": [
    "import tensorflow as tf\n",
    "from keras.preprocessing.image import ImageDataGenerator"
   ]
  },
  {
   "cell_type": "code",
   "execution_count": 5,
   "metadata": {},
   "outputs": [
    {
     "output_type": "execute_result",
     "data": {
      "text/plain": [
       "'2.4.1'"
      ]
     },
     "metadata": {},
     "execution_count": 5
    }
   ],
   "source": [
    "tf.__version__"
   ]
  },
  {
   "cell_type": "code",
   "execution_count": 8,
   "metadata": {},
   "outputs": [
    {
     "output_type": "stream",
     "name": "stdout",
     "text": [
      "Found 8000 images belonging to 2 classes.\n"
     ]
    }
   ],
   "source": [
    "train_datagen = ImageDataGenerator(\n",
    "    rescale = 1./255,\n",
    "    shear_range = 0.2,\n",
    "    zoom_range = 0.2,\n",
    "    horizontal_flip = True\n",
    ")\n",
    "training_set = train_datagen.flow_from_directory(\n",
    "    'C:\\\\Users\\\\Sasha\\\\Desktop\\\\Py\\\\Git\\\\UdemyExerciseML\\\\Machine Learning A-Z (Codes and Datasets)\\\\Part 8 - Deep Learning\\\\Section 40 - Convolutional Neural Networks (CNN)\\\\dataset\\\\training_set',\n",
    "    target_size = (64, 64),\n",
    "    batch_size = 32,\n",
    "    class_mode = 'binary'\n",
    ")"
   ]
  },
  {
   "cell_type": "code",
   "execution_count": 9,
   "metadata": {},
   "outputs": [
    {
     "output_type": "stream",
     "name": "stdout",
     "text": [
      "Found 2000 images belonging to 2 classes.\n"
     ]
    }
   ],
   "source": [
    "test_datagen = ImageDataGenerator(rescale = 1./255)\n",
    "test_set = test_datagen.flow_from_directory(\n",
    "    'C:\\\\Users\\\\Sasha\\\\Desktop\\\\Py\\\\Git\\\\UdemyExerciseML\\\\Machine Learning A-Z (Codes and Datasets)\\\\Part 8 - Deep Learning\\\\Section 40 - Convolutional Neural Networks (CNN)\\\\dataset\\\\test_set',\n",
    "    target_size = (64, 64),\n",
    "    batch_size = 32,\n",
    "    class_mode = 'binary'\n",
    ")"
   ]
  },
  {
   "cell_type": "code",
   "execution_count": 10,
   "metadata": {},
   "outputs": [],
   "source": [
    "cnn = tf.keras.models.Sequential()"
   ]
  },
  {
   "cell_type": "code",
   "execution_count": 11,
   "metadata": {},
   "outputs": [],
   "source": [
    "cnn.add(tf.keras.layers.Conv2D(filters=32, kernel_size=3, activation='relu', input_shape=[64,64,3])) #create first layer for black and white use 1 instead of 3"
   ]
  },
  {
   "cell_type": "code",
   "execution_count": 13,
   "metadata": {},
   "outputs": [],
   "source": [
    "cnn.add(tf.keras.layers.MaxPool2D(pool_size=2, strides=2)) # set pooling settings"
   ]
  },
  {
   "cell_type": "code",
   "execution_count": 14,
   "metadata": {},
   "outputs": [],
   "source": [
    "cnn.add(tf.keras.layers.Conv2D(filters=32, kernel_size=3, activation='relu'))\n",
    "cnn.add(tf.keras.layers.MaxPool2D(pool_size=2, strides=2))"
   ]
  },
  {
   "cell_type": "code",
   "execution_count": 15,
   "metadata": {},
   "outputs": [],
   "source": [
    "cnn.add(tf.keras.layers.Flatten())"
   ]
  },
  {
   "cell_type": "code",
   "execution_count": 16,
   "metadata": {},
   "outputs": [],
   "source": [
    "cnn.add(tf.keras.layers.Dense(units=128, activation='relu')) # connecting"
   ]
  },
  {
   "cell_type": "code",
   "execution_count": 17,
   "metadata": {},
   "outputs": [],
   "source": [
    "cnn.add(tf.keras.layers.Dense(units=1, activation='sigmoid')) # output layer"
   ]
  },
  {
   "cell_type": "code",
   "execution_count": 21,
   "metadata": {},
   "outputs": [],
   "source": [
    "cnn.compile(optimizer='adam', loss='binary_crossentropy', metrics=['accuracy'])   # compiling cnn"
   ]
  },
  {
   "cell_type": "code",
   "execution_count": 22,
   "metadata": {},
   "outputs": [
    {
     "output_type": "stream",
     "name": "stdout",
     "text": [
      "Epoch 1/25\n",
      "250/250 [==============================] - 33s 129ms/step - loss: 0.6856 - accuracy: 0.5530 - val_loss: 0.6355 - val_accuracy: 0.6300\n",
      "Epoch 2/25\n",
      "250/250 [==============================] - 32s 128ms/step - loss: 0.6048 - accuracy: 0.6704 - val_loss: 0.5682 - val_accuracy: 0.7045\n",
      "Epoch 3/25\n",
      "250/250 [==============================] - 32s 130ms/step - loss: 0.5481 - accuracy: 0.7208 - val_loss: 0.6491 - val_accuracy: 0.6730\n",
      "Epoch 4/25\n",
      "250/250 [==============================] - 32s 130ms/step - loss: 0.5217 - accuracy: 0.7381 - val_loss: 0.6231 - val_accuracy: 0.6755\n",
      "Epoch 5/25\n",
      "250/250 [==============================] - 32s 130ms/step - loss: 0.4868 - accuracy: 0.7652 - val_loss: 0.4932 - val_accuracy: 0.7665\n",
      "Epoch 6/25\n",
      "250/250 [==============================] - 34s 134ms/step - loss: 0.4588 - accuracy: 0.7790 - val_loss: 0.4981 - val_accuracy: 0.7640\n",
      "Epoch 7/25\n",
      "250/250 [==============================] - 34s 134ms/step - loss: 0.4633 - accuracy: 0.7746 - val_loss: 0.4964 - val_accuracy: 0.7700\n",
      "Epoch 8/25\n",
      "250/250 [==============================] - 33s 133ms/step - loss: 0.4471 - accuracy: 0.7904 - val_loss: 0.5019 - val_accuracy: 0.7660\n",
      "Epoch 9/25\n",
      "250/250 [==============================] - 34s 138ms/step - loss: 0.4240 - accuracy: 0.8050 - val_loss: 0.4660 - val_accuracy: 0.7825\n",
      "Epoch 10/25\n",
      "250/250 [==============================] - 35s 138ms/step - loss: 0.4155 - accuracy: 0.8126 - val_loss: 0.4727 - val_accuracy: 0.7865\n",
      "Epoch 11/25\n",
      "250/250 [==============================] - 33s 131ms/step - loss: 0.4023 - accuracy: 0.8202 - val_loss: 0.4617 - val_accuracy: 0.7970\n",
      "Epoch 12/25\n",
      "250/250 [==============================] - 34s 135ms/step - loss: 0.3944 - accuracy: 0.8186 - val_loss: 0.5820 - val_accuracy: 0.7570\n",
      "Epoch 13/25\n",
      "250/250 [==============================] - 34s 134ms/step - loss: 0.3949 - accuracy: 0.8205 - val_loss: 0.5152 - val_accuracy: 0.7805\n",
      "Epoch 14/25\n",
      "250/250 [==============================] - 35s 141ms/step - loss: 0.3641 - accuracy: 0.8348 - val_loss: 0.4531 - val_accuracy: 0.8060\n",
      "Epoch 15/25\n",
      "250/250 [==============================] - 35s 141ms/step - loss: 0.3512 - accuracy: 0.8362 - val_loss: 0.4587 - val_accuracy: 0.8035\n",
      "Epoch 16/25\n",
      "250/250 [==============================] - 41s 164ms/step - loss: 0.3362 - accuracy: 0.8527 - val_loss: 0.4724 - val_accuracy: 0.7925\n",
      "Epoch 17/25\n",
      "250/250 [==============================] - 54s 215ms/step - loss: 0.3370 - accuracy: 0.8429 - val_loss: 0.4753 - val_accuracy: 0.7975\n",
      "Epoch 18/25\n",
      "250/250 [==============================] - 44s 175ms/step - loss: 0.3084 - accuracy: 0.8652 - val_loss: 0.5791 - val_accuracy: 0.7785\n",
      "Epoch 19/25\n",
      "250/250 [==============================] - 37s 149ms/step - loss: 0.3045 - accuracy: 0.8657 - val_loss: 0.5581 - val_accuracy: 0.7775\n",
      "Epoch 20/25\n",
      "250/250 [==============================] - 35s 139ms/step - loss: 0.2911 - accuracy: 0.8712 - val_loss: 0.5512 - val_accuracy: 0.7930\n",
      "Epoch 21/25\n",
      "250/250 [==============================] - 34s 136ms/step - loss: 0.2729 - accuracy: 0.8818 - val_loss: 0.5057 - val_accuracy: 0.7965\n",
      "Epoch 22/25\n",
      "250/250 [==============================] - 34s 138ms/step - loss: 0.2657 - accuracy: 0.8874 - val_loss: 0.4955 - val_accuracy: 0.8045\n",
      "Epoch 23/25\n",
      "250/250 [==============================] - 35s 140ms/step - loss: 0.2582 - accuracy: 0.8879 - val_loss: 0.6593 - val_accuracy: 0.7685\n",
      "Epoch 24/25\n",
      "250/250 [==============================] - 33s 132ms/step - loss: 0.2697 - accuracy: 0.8808 - val_loss: 0.5649 - val_accuracy: 0.8025\n",
      "Epoch 25/25\n",
      "250/250 [==============================] - 32s 129ms/step - loss: 0.2463 - accuracy: 0.8957 - val_loss: 0.5071 - val_accuracy: 0.8080\n"
     ]
    },
    {
     "output_type": "execute_result",
     "data": {
      "text/plain": [
       "<tensorflow.python.keras.callbacks.History at 0x2033f3e8dc0>"
      ]
     },
     "metadata": {},
     "execution_count": 22
    }
   ],
   "source": [
    "cnn.fit(x = training_set, validation_data = test_set, epochs=25)"
   ]
  },
  {
   "cell_type": "code",
   "execution_count": 29,
   "metadata": {},
   "outputs": [],
   "source": [
    "import numpy as np \n",
    "from keras.preprocessing import image \n",
    "test_image = image.load_img(\"C:\\\\Users\\\\Sasha\\\\Desktop\\\\Py\\\\Git\\\\UdemyExerciseML\\\\Machine Learning A-Z (Codes and Datasets)\\\\Part 8 - Deep Learning\\\\Section 40 - Convolutional Neural Networks (CNN)\\\\dataset\\\\single_prediction\\\\cat_or_dog_4.jpg\", target_size = (64, 64))\n",
    "test_image = image.img_to_array(test_image)\n",
    "test_image = np.expand_dims(test_image, axis = 0)\n",
    "result = cnn.predict(test_image)\n",
    "training_set.class_indices\n",
    "if result[0][0] == 1:\n",
    "    prediction = 'dog'\n",
    "else:\n",
    "    prediction = 'cat'\n"
   ]
  },
  {
   "cell_type": "code",
   "execution_count": 30,
   "metadata": {},
   "outputs": [
    {
     "output_type": "stream",
     "name": "stdout",
     "text": [
      "cat\n"
     ]
    }
   ],
   "source": [
    "print(prediction)"
   ]
  }
 ]
}