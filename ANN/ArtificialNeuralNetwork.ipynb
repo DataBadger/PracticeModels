{
 "metadata": {
  "language_info": {
   "codemirror_mode": {
    "name": "ipython",
    "version": 3
   },
   "file_extension": ".py",
   "mimetype": "text/x-python",
   "name": "python",
   "nbconvert_exporter": "python",
   "pygments_lexer": "ipython3",
   "version": "3.8.0-final"
  },
  "orig_nbformat": 2,
  "kernelspec": {
   "name": "python3",
   "display_name": "Python 3.8.0 64-bit",
   "metadata": {
    "interpreter": {
     "hash": "ac59ebe37160ed0dfa835113d9b8498d9f09ceb179beaac4002f036b9467c963"
    }
   }
  }
 },
 "nbformat": 4,
 "nbformat_minor": 2,
 "cells": [
  {
   "cell_type": "code",
   "execution_count": 46,
   "metadata": {},
   "outputs": [],
   "source": [
    "import pandas as pd \n",
    "import numpy as np \n",
    "import matplotlib.pyplot as plt "
   ]
  },
  {
   "cell_type": "code",
   "execution_count": 47,
   "metadata": {},
   "outputs": [],
   "source": [
    "df = pd.read_csv(\"C:\\\\Users\\\\Sasha\\\\Desktop\\\\Py\\\\Git\\\\UdemyExerciseML\\\\Machine Learning A-Z (Codes and Datasets)\\\\Part 8 - Deep Learning\\\\Section 39 - Artificial Neural Networks (ANN)\\\\Python\\\\Churn_Modelling.csv\")"
   ]
  },
  {
   "cell_type": "code",
   "execution_count": 48,
   "metadata": {},
   "outputs": [
    {
     "output_type": "execute_result",
     "data": {
      "text/plain": [
       "   RowNumber  CustomerId   Surname  CreditScore Geography  Gender  Age  \\\n",
       "0          1    15634602  Hargrave          619    France  Female   42   \n",
       "1          2    15647311      Hill          608     Spain  Female   41   \n",
       "2          3    15619304      Onio          502    France  Female   42   \n",
       "3          4    15701354      Boni          699    France  Female   39   \n",
       "4          5    15737888  Mitchell          850     Spain  Female   43   \n",
       "\n",
       "   Tenure    Balance  NumOfProducts  HasCrCard  IsActiveMember  \\\n",
       "0       2       0.00              1          1               1   \n",
       "1       1   83807.86              1          0               1   \n",
       "2       8  159660.80              3          1               0   \n",
       "3       1       0.00              2          0               0   \n",
       "4       2  125510.82              1          1               1   \n",
       "\n",
       "   EstimatedSalary  Exited  \n",
       "0        101348.88       1  \n",
       "1        112542.58       0  \n",
       "2        113931.57       1  \n",
       "3         93826.63       0  \n",
       "4         79084.10       0  "
      ],
      "text/html": "<div>\n<style scoped>\n    .dataframe tbody tr th:only-of-type {\n        vertical-align: middle;\n    }\n\n    .dataframe tbody tr th {\n        vertical-align: top;\n    }\n\n    .dataframe thead th {\n        text-align: right;\n    }\n</style>\n<table border=\"1\" class=\"dataframe\">\n  <thead>\n    <tr style=\"text-align: right;\">\n      <th></th>\n      <th>RowNumber</th>\n      <th>CustomerId</th>\n      <th>Surname</th>\n      <th>CreditScore</th>\n      <th>Geography</th>\n      <th>Gender</th>\n      <th>Age</th>\n      <th>Tenure</th>\n      <th>Balance</th>\n      <th>NumOfProducts</th>\n      <th>HasCrCard</th>\n      <th>IsActiveMember</th>\n      <th>EstimatedSalary</th>\n      <th>Exited</th>\n    </tr>\n  </thead>\n  <tbody>\n    <tr>\n      <th>0</th>\n      <td>1</td>\n      <td>15634602</td>\n      <td>Hargrave</td>\n      <td>619</td>\n      <td>France</td>\n      <td>Female</td>\n      <td>42</td>\n      <td>2</td>\n      <td>0.00</td>\n      <td>1</td>\n      <td>1</td>\n      <td>1</td>\n      <td>101348.88</td>\n      <td>1</td>\n    </tr>\n    <tr>\n      <th>1</th>\n      <td>2</td>\n      <td>15647311</td>\n      <td>Hill</td>\n      <td>608</td>\n      <td>Spain</td>\n      <td>Female</td>\n      <td>41</td>\n      <td>1</td>\n      <td>83807.86</td>\n      <td>1</td>\n      <td>0</td>\n      <td>1</td>\n      <td>112542.58</td>\n      <td>0</td>\n    </tr>\n    <tr>\n      <th>2</th>\n      <td>3</td>\n      <td>15619304</td>\n      <td>Onio</td>\n      <td>502</td>\n      <td>France</td>\n      <td>Female</td>\n      <td>42</td>\n      <td>8</td>\n      <td>159660.80</td>\n      <td>3</td>\n      <td>1</td>\n      <td>0</td>\n      <td>113931.57</td>\n      <td>1</td>\n    </tr>\n    <tr>\n      <th>3</th>\n      <td>4</td>\n      <td>15701354</td>\n      <td>Boni</td>\n      <td>699</td>\n      <td>France</td>\n      <td>Female</td>\n      <td>39</td>\n      <td>1</td>\n      <td>0.00</td>\n      <td>2</td>\n      <td>0</td>\n      <td>0</td>\n      <td>93826.63</td>\n      <td>0</td>\n    </tr>\n    <tr>\n      <th>4</th>\n      <td>5</td>\n      <td>15737888</td>\n      <td>Mitchell</td>\n      <td>850</td>\n      <td>Spain</td>\n      <td>Female</td>\n      <td>43</td>\n      <td>2</td>\n      <td>125510.82</td>\n      <td>1</td>\n      <td>1</td>\n      <td>1</td>\n      <td>79084.10</td>\n      <td>0</td>\n    </tr>\n  </tbody>\n</table>\n</div>"
     },
     "metadata": {},
     "execution_count": 48
    }
   ],
   "source": [
    "df.head()"
   ]
  },
  {
   "cell_type": "code",
   "execution_count": 49,
   "metadata": {},
   "outputs": [
    {
     "output_type": "stream",
     "name": "stdout",
     "text": [
      "<class 'pandas.core.frame.DataFrame'>\nRangeIndex: 10000 entries, 0 to 9999\nData columns (total 14 columns):\n #   Column           Non-Null Count  Dtype  \n---  ------           --------------  -----  \n 0   RowNumber        10000 non-null  int64  \n 1   CustomerId       10000 non-null  int64  \n 2   Surname          10000 non-null  object \n 3   CreditScore      10000 non-null  int64  \n 4   Geography        10000 non-null  object \n 5   Gender           10000 non-null  object \n 6   Age              10000 non-null  int64  \n 7   Tenure           10000 non-null  int64  \n 8   Balance          10000 non-null  float64\n 9   NumOfProducts    10000 non-null  int64  \n 10  HasCrCard        10000 non-null  int64  \n 11  IsActiveMember   10000 non-null  int64  \n 12  EstimatedSalary  10000 non-null  float64\n 13  Exited           10000 non-null  int64  \ndtypes: float64(2), int64(9), object(3)\nmemory usage: 1.1+ MB\n"
     ]
    }
   ],
   "source": [
    "df.info()"
   ]
  },
  {
   "cell_type": "code",
   "execution_count": 50,
   "metadata": {},
   "outputs": [],
   "source": [
    "import tensorflow as tf"
   ]
  },
  {
   "cell_type": "code",
   "execution_count": 51,
   "metadata": {},
   "outputs": [],
   "source": [
    "X = df.iloc[:, 3:-1].values\n",
    "y = df.iloc[:, -1].values"
   ]
  },
  {
   "cell_type": "code",
   "execution_count": 52,
   "metadata": {},
   "outputs": [
    {
     "output_type": "stream",
     "name": "stdout",
     "text": [
      "[[619 'France' 'Female' ... 1 1 101348.88]\n [608 'Spain' 'Female' ... 0 1 112542.58]\n [502 'France' 'Female' ... 1 0 113931.57]\n ...\n [709 'France' 'Female' ... 0 1 42085.58]\n [772 'Germany' 'Male' ... 1 0 92888.52]\n [792 'France' 'Female' ... 1 0 38190.78]]\n"
     ]
    }
   ],
   "source": [
    "print(X)"
   ]
  },
  {
   "cell_type": "code",
   "execution_count": 53,
   "metadata": {},
   "outputs": [
    {
     "output_type": "stream",
     "name": "stdout",
     "text": [
      "[1 0 1 ... 1 1 0]\n"
     ]
    }
   ],
   "source": [
    "print(y)"
   ]
  },
  {
   "cell_type": "code",
   "execution_count": 54,
   "metadata": {},
   "outputs": [],
   "source": [
    "#label encode gender column\n",
    "from sklearn.preprocessing import LabelEncoder\n",
    "le = LabelEncoder()\n",
    "X[:, 2] = le.fit_transform(X[:, 2])"
   ]
  },
  {
   "cell_type": "code",
   "execution_count": 55,
   "metadata": {},
   "outputs": [
    {
     "output_type": "stream",
     "name": "stdout",
     "text": [
      "[[619 'France' 0 ... 1 1 101348.88]\n [608 'Spain' 0 ... 0 1 112542.58]\n [502 'France' 0 ... 1 0 113931.57]\n ...\n [709 'France' 0 ... 0 1 42085.58]\n [772 'Germany' 1 ... 1 0 92888.52]\n [792 'France' 0 ... 1 0 38190.78]]\n"
     ]
    }
   ],
   "source": [
    "print(X)"
   ]
  },
  {
   "cell_type": "code",
   "execution_count": 56,
   "metadata": {},
   "outputs": [],
   "source": [
    "# One hot encode geography column\n",
    "from sklearn.compose import ColumnTransformer\n",
    "from sklearn.preprocessing import OneHotEncoder\n",
    "ct = ColumnTransformer(transformers=[('encoder', OneHotEncoder(), [1])], remainder='passthrough')\n",
    "X = np.array(ct.fit_transform(X))"
   ]
  },
  {
   "cell_type": "code",
   "execution_count": 57,
   "metadata": {},
   "outputs": [
    {
     "output_type": "stream",
     "name": "stdout",
     "text": [
      "[[1.0 0.0 0.0 ... 1 1 101348.88]\n [0.0 0.0 1.0 ... 0 1 112542.58]\n [1.0 0.0 0.0 ... 1 0 113931.57]\n ...\n [1.0 0.0 0.0 ... 0 1 42085.58]\n [0.0 1.0 0.0 ... 1 0 92888.52]\n [1.0 0.0 0.0 ... 1 0 38190.78]]\n"
     ]
    }
   ],
   "source": [
    "print(X)"
   ]
  },
  {
   "cell_type": "code",
   "execution_count": 58,
   "metadata": {},
   "outputs": [],
   "source": [
    "from sklearn.model_selection import train_test_split\n",
    "X_train, X_test, y_train, y_test = train_test_split(X, y, test_size = 0.2, random_state = 0)"
   ]
  },
  {
   "cell_type": "code",
   "execution_count": 59,
   "metadata": {},
   "outputs": [],
   "source": [
    "from sklearn.preprocessing import StandardScaler\n",
    "sc = StandardScaler()\n",
    "X_train = sc.fit_transform(X_train)\n",
    "X_test = sc.transform(X_test)"
   ]
  },
  {
   "cell_type": "code",
   "execution_count": 60,
   "metadata": {},
   "outputs": [],
   "source": [
    "ann = tf.keras.models.Sequential()"
   ]
  },
  {
   "cell_type": "code",
   "execution_count": 61,
   "metadata": {},
   "outputs": [],
   "source": [
    "ann.add(tf.keras.layers.Dense(units=6, activation='relu')) # adding input layer"
   ]
  },
  {
   "cell_type": "code",
   "execution_count": 62,
   "metadata": {},
   "outputs": [],
   "source": [
    "ann.add(tf.keras.layers.Dense(units=6, activation='relu')) # adding hidden layer"
   ]
  },
  {
   "cell_type": "code",
   "execution_count": 63,
   "metadata": {},
   "outputs": [],
   "source": [
    "ann.add(tf.keras.layers.Dense(units=6, activation='relu')) # adding hidden layer"
   ]
  },
  {
   "cell_type": "code",
   "execution_count": 64,
   "metadata": {},
   "outputs": [],
   "source": [
    "ann.add(tf.keras.layers.Dense(units=6, activation='relu')) # adding hidden layer"
   ]
  },
  {
   "cell_type": "code",
   "execution_count": 65,
   "metadata": {},
   "outputs": [],
   "source": [
    "ann.add(tf.keras.layers.Dense(units=1, activation='sigmoid')) # adding output layer"
   ]
  },
  {
   "cell_type": "code",
   "execution_count": 66,
   "metadata": {},
   "outputs": [],
   "source": [
    "ann.compile(optimizer = 'adam', loss = 'binary_crossentropy', metrics =['accuracy'])"
   ]
  },
  {
   "cell_type": "code",
   "execution_count": 67,
   "metadata": {},
   "outputs": [
    {
     "output_type": "stream",
     "name": "stdout",
     "text": [
      "Epoch 1/200\n",
      "250/250 [==============================] - 1s 2ms/step - loss: 0.6468 - accuracy: 0.7428\n",
      "Epoch 2/200\n",
      "250/250 [==============================] - 0s 2ms/step - loss: 0.4677 - accuracy: 0.7953\n",
      "Epoch 3/200\n",
      "250/250 [==============================] - 0s 2ms/step - loss: 0.4410 - accuracy: 0.7978\n",
      "Epoch 4/200\n",
      "250/250 [==============================] - 0s 1ms/step - loss: 0.4335 - accuracy: 0.7974\n",
      "Epoch 5/200\n",
      "250/250 [==============================] - 0s 2ms/step - loss: 0.4358 - accuracy: 0.7976\n",
      "Epoch 6/200\n",
      "250/250 [==============================] - 0s 1ms/step - loss: 0.4420 - accuracy: 0.8044\n",
      "Epoch 7/200\n",
      "250/250 [==============================] - 0s 1ms/step - loss: 0.4246 - accuracy: 0.8169\n",
      "Epoch 8/200\n",
      "250/250 [==============================] - 0s 1ms/step - loss: 0.4095 - accuracy: 0.8249\n",
      "Epoch 9/200\n",
      "250/250 [==============================] - 0s 1ms/step - loss: 0.4133 - accuracy: 0.8260\n",
      "Epoch 10/200\n",
      "250/250 [==============================] - 0s 1ms/step - loss: 0.4116 - accuracy: 0.8247\n",
      "Epoch 11/200\n",
      "250/250 [==============================] - 0s 1ms/step - loss: 0.4041 - accuracy: 0.8317\n",
      "Epoch 12/200\n",
      "250/250 [==============================] - 0s 1ms/step - loss: 0.4144 - accuracy: 0.8255\n",
      "Epoch 13/200\n",
      "250/250 [==============================] - 0s 1ms/step - loss: 0.4043 - accuracy: 0.8342\n",
      "Epoch 14/200\n",
      "250/250 [==============================] - 0s 993us/step - loss: 0.4073 - accuracy: 0.8304\n",
      "Epoch 15/200\n",
      "250/250 [==============================] - 0s 1ms/step - loss: 0.4051 - accuracy: 0.8292\n",
      "Epoch 16/200\n",
      "250/250 [==============================] - 0s 1ms/step - loss: 0.4015 - accuracy: 0.8359\n",
      "Epoch 17/200\n",
      "250/250 [==============================] - 0s 1ms/step - loss: 0.3784 - accuracy: 0.8488\n",
      "Epoch 18/200\n",
      "250/250 [==============================] - 0s 1ms/step - loss: 0.4089 - accuracy: 0.8281\n",
      "Epoch 19/200\n",
      "250/250 [==============================] - 0s 1ms/step - loss: 0.3978 - accuracy: 0.8378\n",
      "Epoch 20/200\n",
      "250/250 [==============================] - 0s 1ms/step - loss: 0.4044 - accuracy: 0.8326\n",
      "Epoch 21/200\n",
      "250/250 [==============================] - 0s 1ms/step - loss: 0.3986 - accuracy: 0.8334\n",
      "Epoch 22/200\n",
      "250/250 [==============================] - 0s 1ms/step - loss: 0.3975 - accuracy: 0.8342\n",
      "Epoch 23/200\n",
      "250/250 [==============================] - 0s 1ms/step - loss: 0.4003 - accuracy: 0.8382\n",
      "Epoch 24/200\n",
      "250/250 [==============================] - 0s 1ms/step - loss: 0.3931 - accuracy: 0.8396\n",
      "Epoch 25/200\n",
      "250/250 [==============================] - 0s 1ms/step - loss: 0.3870 - accuracy: 0.8425\n",
      "Epoch 26/200\n",
      "250/250 [==============================] - 0s 1ms/step - loss: 0.3893 - accuracy: 0.8431\n",
      "Epoch 27/200\n",
      "250/250 [==============================] - 0s 1ms/step - loss: 0.3911 - accuracy: 0.8454\n",
      "Epoch 28/200\n",
      "250/250 [==============================] - 0s 1ms/step - loss: 0.3924 - accuracy: 0.8405\n",
      "Epoch 29/200\n",
      "250/250 [==============================] - 0s 1ms/step - loss: 0.4011 - accuracy: 0.8370\n",
      "Epoch 30/200\n",
      "250/250 [==============================] - 0s 1ms/step - loss: 0.4059 - accuracy: 0.8349\n",
      "Epoch 31/200\n",
      "250/250 [==============================] - 0s 1ms/step - loss: 0.3991 - accuracy: 0.8378\n",
      "Epoch 32/200\n",
      "250/250 [==============================] - 0s 1ms/step - loss: 0.3780 - accuracy: 0.8480\n",
      "Epoch 33/200\n",
      "250/250 [==============================] - 0s 1ms/step - loss: 0.4037 - accuracy: 0.8364\n",
      "Epoch 34/200\n",
      "250/250 [==============================] - 0s 1ms/step - loss: 0.3941 - accuracy: 0.8392\n",
      "Epoch 35/200\n",
      "250/250 [==============================] - 0s 2ms/step - loss: 0.3824 - accuracy: 0.8501\n",
      "Epoch 36/200\n",
      "250/250 [==============================] - 0s 1ms/step - loss: 0.3925 - accuracy: 0.8425\n",
      "Epoch 37/200\n",
      "250/250 [==============================] - 0s 1ms/step - loss: 0.3932 - accuracy: 0.8412\n",
      "Epoch 38/200\n",
      "250/250 [==============================] - 0s 1ms/step - loss: 0.3937 - accuracy: 0.8424\n",
      "Epoch 39/200\n",
      "250/250 [==============================] - 0s 1ms/step - loss: 0.3799 - accuracy: 0.8477\n",
      "Epoch 40/200\n",
      "250/250 [==============================] - 0s 1ms/step - loss: 0.3766 - accuracy: 0.8514\n",
      "Epoch 41/200\n",
      "250/250 [==============================] - 0s 1ms/step - loss: 0.3800 - accuracy: 0.8466\n",
      "Epoch 42/200\n",
      "250/250 [==============================] - 0s 1ms/step - loss: 0.3757 - accuracy: 0.8530\n",
      "Epoch 43/200\n",
      "250/250 [==============================] - 0s 1ms/step - loss: 0.3629 - accuracy: 0.8613\n",
      "Epoch 44/200\n",
      "250/250 [==============================] - 0s 1ms/step - loss: 0.3739 - accuracy: 0.8509\n",
      "Epoch 45/200\n",
      "250/250 [==============================] - 0s 1ms/step - loss: 0.3499 - accuracy: 0.8652\n",
      "Epoch 46/200\n",
      "250/250 [==============================] - 0s 1ms/step - loss: 0.3525 - accuracy: 0.8649\n",
      "Epoch 47/200\n",
      "250/250 [==============================] - 0s 2ms/step - loss: 0.3527 - accuracy: 0.8546\n",
      "Epoch 48/200\n",
      "250/250 [==============================] - 0s 1ms/step - loss: 0.3520 - accuracy: 0.8584\n",
      "Epoch 49/200\n",
      "250/250 [==============================] - 0s 1ms/step - loss: 0.3471 - accuracy: 0.8613\n",
      "Epoch 50/200\n",
      "250/250 [==============================] - 0s 1ms/step - loss: 0.3448 - accuracy: 0.8615\n",
      "Epoch 51/200\n",
      "250/250 [==============================] - 0s 1ms/step - loss: 0.3261 - accuracy: 0.8694\n",
      "Epoch 52/200\n",
      "250/250 [==============================] - 0s 2ms/step - loss: 0.3436 - accuracy: 0.8614\n",
      "Epoch 53/200\n",
      "250/250 [==============================] - 0s 2ms/step - loss: 0.3331 - accuracy: 0.8682\n",
      "Epoch 54/200\n",
      "250/250 [==============================] - 0s 2ms/step - loss: 0.3290 - accuracy: 0.8647\n",
      "Epoch 55/200\n",
      "250/250 [==============================] - 0s 2ms/step - loss: 0.3391 - accuracy: 0.8644\n",
      "Epoch 56/200\n",
      "250/250 [==============================] - 0s 2ms/step - loss: 0.3273 - accuracy: 0.8654\n",
      "Epoch 57/200\n",
      "250/250 [==============================] - 0s 2ms/step - loss: 0.3418 - accuracy: 0.8612\n",
      "Epoch 58/200\n",
      "250/250 [==============================] - 0s 1ms/step - loss: 0.3360 - accuracy: 0.8629\n",
      "Epoch 59/200\n",
      "250/250 [==============================] - 0s 1ms/step - loss: 0.3239 - accuracy: 0.8719\n",
      "Epoch 60/200\n",
      "250/250 [==============================] - 0s 1ms/step - loss: 0.3347 - accuracy: 0.8639\n",
      "Epoch 61/200\n",
      "250/250 [==============================] - 0s 1ms/step - loss: 0.3373 - accuracy: 0.8658\n",
      "Epoch 62/200\n",
      "250/250 [==============================] - 0s 1ms/step - loss: 0.3379 - accuracy: 0.8667\n",
      "Epoch 63/200\n",
      "250/250 [==============================] - 0s 1ms/step - loss: 0.3284 - accuracy: 0.8689\n",
      "Epoch 64/200\n",
      "250/250 [==============================] - 0s 1ms/step - loss: 0.3307 - accuracy: 0.8665\n",
      "Epoch 65/200\n",
      "250/250 [==============================] - 0s 1ms/step - loss: 0.3304 - accuracy: 0.8656\n",
      "Epoch 66/200\n",
      "250/250 [==============================] - 0s 1ms/step - loss: 0.3365 - accuracy: 0.8653\n",
      "Epoch 67/200\n",
      "250/250 [==============================] - 0s 1ms/step - loss: 0.3324 - accuracy: 0.8677\n",
      "Epoch 68/200\n",
      "250/250 [==============================] - 0s 1ms/step - loss: 0.3248 - accuracy: 0.8698\n",
      "Epoch 69/200\n",
      "250/250 [==============================] - 0s 1ms/step - loss: 0.3234 - accuracy: 0.8719\n",
      "Epoch 70/200\n",
      "250/250 [==============================] - 0s 1ms/step - loss: 0.3435 - accuracy: 0.8578\n",
      "Epoch 71/200\n",
      "250/250 [==============================] - 0s 1ms/step - loss: 0.3321 - accuracy: 0.8645\n",
      "Epoch 72/200\n",
      "250/250 [==============================] - 0s 1ms/step - loss: 0.3327 - accuracy: 0.8629\n",
      "Epoch 73/200\n",
      "250/250 [==============================] - 0s 1ms/step - loss: 0.3430 - accuracy: 0.8589\n",
      "Epoch 74/200\n",
      "250/250 [==============================] - 0s 1ms/step - loss: 0.3236 - accuracy: 0.8729\n",
      "Epoch 75/200\n",
      "250/250 [==============================] - 0s 1ms/step - loss: 0.3398 - accuracy: 0.8619\n",
      "Epoch 76/200\n",
      "250/250 [==============================] - 0s 2ms/step - loss: 0.3388 - accuracy: 0.8609\n",
      "Epoch 77/200\n",
      "250/250 [==============================] - 0s 1ms/step - loss: 0.3317 - accuracy: 0.8652\n",
      "Epoch 78/200\n",
      "250/250 [==============================] - 0s 1ms/step - loss: 0.3378 - accuracy: 0.8640\n",
      "Epoch 79/200\n",
      "250/250 [==============================] - 0s 1ms/step - loss: 0.3348 - accuracy: 0.8627\n",
      "Epoch 80/200\n",
      "250/250 [==============================] - 0s 1ms/step - loss: 0.3333 - accuracy: 0.8672\n",
      "Epoch 81/200\n",
      "250/250 [==============================] - 0s 1ms/step - loss: 0.3340 - accuracy: 0.8678\n",
      "Epoch 82/200\n",
      "250/250 [==============================] - 0s 1ms/step - loss: 0.3279 - accuracy: 0.8682\n",
      "Epoch 83/200\n",
      "250/250 [==============================] - 0s 2ms/step - loss: 0.3396 - accuracy: 0.8590\n",
      "Epoch 84/200\n",
      "250/250 [==============================] - 0s 1ms/step - loss: 0.3283 - accuracy: 0.8675\n",
      "Epoch 85/200\n",
      "250/250 [==============================] - 0s 1ms/step - loss: 0.3251 - accuracy: 0.8674\n",
      "Epoch 86/200\n",
      "250/250 [==============================] - 0s 1ms/step - loss: 0.3191 - accuracy: 0.8709\n",
      "Epoch 87/200\n",
      "250/250 [==============================] - 0s 1ms/step - loss: 0.3250 - accuracy: 0.8688\n",
      "Epoch 88/200\n",
      "250/250 [==============================] - 0s 1ms/step - loss: 0.3239 - accuracy: 0.8684\n",
      "Epoch 89/200\n",
      "250/250 [==============================] - 0s 1ms/step - loss: 0.3345 - accuracy: 0.8640\n",
      "Epoch 90/200\n",
      "250/250 [==============================] - 0s 1ms/step - loss: 0.3323 - accuracy: 0.8634\n",
      "Epoch 91/200\n",
      "250/250 [==============================] - 0s 1ms/step - loss: 0.3268 - accuracy: 0.8658\n",
      "Epoch 92/200\n",
      "250/250 [==============================] - 0s 1ms/step - loss: 0.3309 - accuracy: 0.8655\n",
      "Epoch 93/200\n",
      "250/250 [==============================] - 0s 1ms/step - loss: 0.3318 - accuracy: 0.8633\n",
      "Epoch 94/200\n",
      "250/250 [==============================] - 0s 1ms/step - loss: 0.3319 - accuracy: 0.8644\n",
      "Epoch 95/200\n",
      "250/250 [==============================] - 0s 1ms/step - loss: 0.3203 - accuracy: 0.8718\n",
      "Epoch 96/200\n",
      "250/250 [==============================] - 0s 1ms/step - loss: 0.3414 - accuracy: 0.8647\n",
      "Epoch 97/200\n",
      "250/250 [==============================] - 0s 1ms/step - loss: 0.3259 - accuracy: 0.8679\n",
      "Epoch 98/200\n",
      "250/250 [==============================] - 0s 1ms/step - loss: 0.3311 - accuracy: 0.8669\n",
      "Epoch 99/200\n",
      "250/250 [==============================] - 0s 1ms/step - loss: 0.3237 - accuracy: 0.8729\n",
      "Epoch 100/200\n",
      "250/250 [==============================] - 0s 1ms/step - loss: 0.3237 - accuracy: 0.8693\n",
      "Epoch 101/200\n",
      "250/250 [==============================] - 0s 1ms/step - loss: 0.3355 - accuracy: 0.8640\n",
      "Epoch 102/200\n",
      "250/250 [==============================] - 0s 1ms/step - loss: 0.3304 - accuracy: 0.8668\n",
      "Epoch 103/200\n",
      "250/250 [==============================] - 0s 1ms/step - loss: 0.3316 - accuracy: 0.8655\n",
      "Epoch 104/200\n",
      "250/250 [==============================] - 0s 1ms/step - loss: 0.3475 - accuracy: 0.8615\n",
      "Epoch 105/200\n",
      "250/250 [==============================] - 0s 1ms/step - loss: 0.3282 - accuracy: 0.8667\n",
      "Epoch 106/200\n",
      "250/250 [==============================] - 0s 1ms/step - loss: 0.3268 - accuracy: 0.8738\n",
      "Epoch 107/200\n",
      "250/250 [==============================] - 0s 1ms/step - loss: 0.3213 - accuracy: 0.8737\n",
      "Epoch 108/200\n",
      "250/250 [==============================] - 0s 1ms/step - loss: 0.3355 - accuracy: 0.8678\n",
      "Epoch 109/200\n",
      "250/250 [==============================] - 0s 1ms/step - loss: 0.3398 - accuracy: 0.8628\n",
      "Epoch 110/200\n",
      "250/250 [==============================] - 0s 1ms/step - loss: 0.3341 - accuracy: 0.8675\n",
      "Epoch 111/200\n",
      "250/250 [==============================] - 0s 1ms/step - loss: 0.3373 - accuracy: 0.8619\n",
      "Epoch 112/200\n",
      "250/250 [==============================] - 0s 1ms/step - loss: 0.3186 - accuracy: 0.8773\n",
      "Epoch 113/200\n",
      "250/250 [==============================] - 0s 1ms/step - loss: 0.3350 - accuracy: 0.8667\n",
      "Epoch 114/200\n",
      "250/250 [==============================] - 0s 1ms/step - loss: 0.3303 - accuracy: 0.8681\n",
      "Epoch 115/200\n",
      "250/250 [==============================] - 0s 1ms/step - loss: 0.3290 - accuracy: 0.8684\n",
      "Epoch 116/200\n",
      "250/250 [==============================] - 0s 1ms/step - loss: 0.3204 - accuracy: 0.8763\n",
      "Epoch 117/200\n",
      "250/250 [==============================] - 0s 1ms/step - loss: 0.3278 - accuracy: 0.8664\n",
      "Epoch 118/200\n",
      "250/250 [==============================] - 0s 1ms/step - loss: 0.3293 - accuracy: 0.8639\n",
      "Epoch 119/200\n",
      "250/250 [==============================] - 0s 1ms/step - loss: 0.3268 - accuracy: 0.8668\n",
      "Epoch 120/200\n",
      "250/250 [==============================] - 0s 1ms/step - loss: 0.3128 - accuracy: 0.8743\n",
      "Epoch 121/200\n",
      "250/250 [==============================] - 0s 1ms/step - loss: 0.3225 - accuracy: 0.8724\n",
      "Epoch 122/200\n",
      "250/250 [==============================] - 0s 1ms/step - loss: 0.3323 - accuracy: 0.8605\n",
      "Epoch 123/200\n",
      "250/250 [==============================] - 0s 1ms/step - loss: 0.3234 - accuracy: 0.8668\n",
      "Epoch 124/200\n",
      "250/250 [==============================] - 0s 1ms/step - loss: 0.3277 - accuracy: 0.8693\n",
      "Epoch 125/200\n",
      "250/250 [==============================] - 0s 1ms/step - loss: 0.3294 - accuracy: 0.8651\n",
      "Epoch 126/200\n",
      "250/250 [==============================] - 0s 1ms/step - loss: 0.3319 - accuracy: 0.8678\n",
      "Epoch 127/200\n",
      "250/250 [==============================] - 0s 1ms/step - loss: 0.3281 - accuracy: 0.8664\n",
      "Epoch 128/200\n",
      "250/250 [==============================] - 0s 1ms/step - loss: 0.3325 - accuracy: 0.8664\n",
      "Epoch 129/200\n",
      "250/250 [==============================] - 0s 1ms/step - loss: 0.3370 - accuracy: 0.8657\n",
      "Epoch 130/200\n",
      "250/250 [==============================] - 0s 1ms/step - loss: 0.3274 - accuracy: 0.8703\n",
      "Epoch 131/200\n",
      "250/250 [==============================] - 0s 1ms/step - loss: 0.3235 - accuracy: 0.8702\n",
      "Epoch 132/200\n",
      "250/250 [==============================] - 0s 1ms/step - loss: 0.3199 - accuracy: 0.8749\n",
      "Epoch 133/200\n",
      "250/250 [==============================] - 0s 1ms/step - loss: 0.3258 - accuracy: 0.8682\n",
      "Epoch 134/200\n",
      "250/250 [==============================] - 0s 1ms/step - loss: 0.3306 - accuracy: 0.8666\n",
      "Epoch 135/200\n",
      "250/250 [==============================] - 0s 1ms/step - loss: 0.3281 - accuracy: 0.8715\n",
      "Epoch 136/200\n",
      "250/250 [==============================] - 0s 1ms/step - loss: 0.3325 - accuracy: 0.8623\n",
      "Epoch 137/200\n",
      "250/250 [==============================] - 0s 1ms/step - loss: 0.3252 - accuracy: 0.8660\n",
      "Epoch 138/200\n",
      "250/250 [==============================] - 0s 1ms/step - loss: 0.3259 - accuracy: 0.8721\n",
      "Epoch 139/200\n",
      "250/250 [==============================] - 0s 1ms/step - loss: 0.3299 - accuracy: 0.8673\n",
      "Epoch 140/200\n",
      "250/250 [==============================] - 0s 1ms/step - loss: 0.3195 - accuracy: 0.8738\n",
      "Epoch 141/200\n",
      "250/250 [==============================] - 0s 1ms/step - loss: 0.3200 - accuracy: 0.8735\n",
      "Epoch 142/200\n",
      "250/250 [==============================] - 0s 1ms/step - loss: 0.3275 - accuracy: 0.8702\n",
      "Epoch 143/200\n",
      "250/250 [==============================] - 0s 1ms/step - loss: 0.3376 - accuracy: 0.8627\n",
      "Epoch 144/200\n",
      "250/250 [==============================] - 0s 1ms/step - loss: 0.3225 - accuracy: 0.8717\n",
      "Epoch 145/200\n",
      "250/250 [==============================] - 0s 1ms/step - loss: 0.3290 - accuracy: 0.8634\n",
      "Epoch 146/200\n",
      "250/250 [==============================] - 0s 1ms/step - loss: 0.3300 - accuracy: 0.8678\n",
      "Epoch 147/200\n",
      "250/250 [==============================] - 0s 1ms/step - loss: 0.3294 - accuracy: 0.8686\n",
      "Epoch 148/200\n",
      "250/250 [==============================] - 0s 1ms/step - loss: 0.3299 - accuracy: 0.8715\n",
      "Epoch 149/200\n",
      "250/250 [==============================] - 0s 1ms/step - loss: 0.3245 - accuracy: 0.8676\n",
      "Epoch 150/200\n",
      "250/250 [==============================] - 0s 1ms/step - loss: 0.3177 - accuracy: 0.8720\n",
      "Epoch 151/200\n",
      "250/250 [==============================] - 0s 1ms/step - loss: 0.3282 - accuracy: 0.8665\n",
      "Epoch 152/200\n",
      "250/250 [==============================] - 0s 1ms/step - loss: 0.3252 - accuracy: 0.8672\n",
      "Epoch 153/200\n",
      "250/250 [==============================] - 0s 1ms/step - loss: 0.3299 - accuracy: 0.8634\n",
      "Epoch 154/200\n",
      "250/250 [==============================] - 0s 1ms/step - loss: 0.3349 - accuracy: 0.8624\n",
      "Epoch 155/200\n",
      "250/250 [==============================] - 0s 1ms/step - loss: 0.3308 - accuracy: 0.8699\n",
      "Epoch 156/200\n",
      "250/250 [==============================] - 0s 1ms/step - loss: 0.3295 - accuracy: 0.8686\n",
      "Epoch 157/200\n",
      "250/250 [==============================] - 0s 1ms/step - loss: 0.3353 - accuracy: 0.8667\n",
      "Epoch 158/200\n",
      "250/250 [==============================] - 0s 1ms/step - loss: 0.3266 - accuracy: 0.8684\n",
      "Epoch 159/200\n",
      "250/250 [==============================] - 0s 1ms/step - loss: 0.3323 - accuracy: 0.8665\n",
      "Epoch 160/200\n",
      "250/250 [==============================] - 0s 1ms/step - loss: 0.3351 - accuracy: 0.8658\n",
      "Epoch 161/200\n",
      "250/250 [==============================] - 0s 1ms/step - loss: 0.3387 - accuracy: 0.8638\n",
      "Epoch 162/200\n",
      "250/250 [==============================] - 0s 1ms/step - loss: 0.3299 - accuracy: 0.8670\n",
      "Epoch 163/200\n",
      "250/250 [==============================] - 0s 1ms/step - loss: 0.3287 - accuracy: 0.8661\n",
      "Epoch 164/200\n",
      "250/250 [==============================] - 0s 1ms/step - loss: 0.3326 - accuracy: 0.8665\n",
      "Epoch 165/200\n",
      "250/250 [==============================] - 0s 1ms/step - loss: 0.3250 - accuracy: 0.8713\n",
      "Epoch 166/200\n",
      "250/250 [==============================] - 0s 1ms/step - loss: 0.3382 - accuracy: 0.8648\n",
      "Epoch 167/200\n",
      "250/250 [==============================] - 0s 1ms/step - loss: 0.3315 - accuracy: 0.8659\n",
      "Epoch 168/200\n",
      "250/250 [==============================] - 0s 1ms/step - loss: 0.3270 - accuracy: 0.8699\n",
      "Epoch 169/200\n",
      "250/250 [==============================] - 0s 1ms/step - loss: 0.3251 - accuracy: 0.8706\n",
      "Epoch 170/200\n",
      "250/250 [==============================] - 0s 1ms/step - loss: 0.3339 - accuracy: 0.8649\n",
      "Epoch 171/200\n",
      "250/250 [==============================] - 0s 1ms/step - loss: 0.3349 - accuracy: 0.8640\n",
      "Epoch 172/200\n",
      "250/250 [==============================] - 0s 1ms/step - loss: 0.3211 - accuracy: 0.8735\n",
      "Epoch 173/200\n",
      "250/250 [==============================] - 0s 1ms/step - loss: 0.3245 - accuracy: 0.8705\n",
      "Epoch 174/200\n",
      "250/250 [==============================] - 0s 1ms/step - loss: 0.3209 - accuracy: 0.8740\n",
      "Epoch 175/200\n",
      "250/250 [==============================] - 0s 2ms/step - loss: 0.3293 - accuracy: 0.8678\n",
      "Epoch 176/200\n",
      "250/250 [==============================] - 0s 2ms/step - loss: 0.3163 - accuracy: 0.8737\n",
      "Epoch 177/200\n",
      "250/250 [==============================] - 0s 1ms/step - loss: 0.3290 - accuracy: 0.8654\n",
      "Epoch 178/200\n",
      "250/250 [==============================] - 0s 1ms/step - loss: 0.3380 - accuracy: 0.8648\n",
      "Epoch 179/200\n",
      "250/250 [==============================] - 0s 1ms/step - loss: 0.3105 - accuracy: 0.8778\n",
      "Epoch 180/200\n",
      "250/250 [==============================] - 0s 1ms/step - loss: 0.3289 - accuracy: 0.8673\n",
      "Epoch 181/200\n",
      "250/250 [==============================] - 0s 1ms/step - loss: 0.3231 - accuracy: 0.8689\n",
      "Epoch 182/200\n",
      "250/250 [==============================] - 0s 1ms/step - loss: 0.3228 - accuracy: 0.8706\n",
      "Epoch 183/200\n",
      "250/250 [==============================] - 0s 2ms/step - loss: 0.3171 - accuracy: 0.8727\n",
      "Epoch 184/200\n",
      "250/250 [==============================] - 0s 1ms/step - loss: 0.3304 - accuracy: 0.8640\n",
      "Epoch 185/200\n",
      "250/250 [==============================] - 0s 1ms/step - loss: 0.3201 - accuracy: 0.8702\n",
      "Epoch 186/200\n",
      "250/250 [==============================] - 0s 2ms/step - loss: 0.3155 - accuracy: 0.8752\n",
      "Epoch 187/200\n",
      "250/250 [==============================] - 0s 2ms/step - loss: 0.3207 - accuracy: 0.8728\n",
      "Epoch 188/200\n",
      "250/250 [==============================] - 0s 2ms/step - loss: 0.3304 - accuracy: 0.8686\n",
      "Epoch 189/200\n",
      "250/250 [==============================] - 0s 1ms/step - loss: 0.3317 - accuracy: 0.8686\n",
      "Epoch 190/200\n",
      "250/250 [==============================] - 0s 1ms/step - loss: 0.3226 - accuracy: 0.8725\n",
      "Epoch 191/200\n",
      "250/250 [==============================] - 0s 2ms/step - loss: 0.3356 - accuracy: 0.8644\n",
      "Epoch 192/200\n",
      "250/250 [==============================] - 0s 1ms/step - loss: 0.3168 - accuracy: 0.8764\n",
      "Epoch 193/200\n",
      "250/250 [==============================] - 0s 1ms/step - loss: 0.3276 - accuracy: 0.8686\n",
      "Epoch 194/200\n",
      "250/250 [==============================] - 0s 1ms/step - loss: 0.3273 - accuracy: 0.8690\n",
      "Epoch 195/200\n",
      "250/250 [==============================] - 0s 2ms/step - loss: 0.3176 - accuracy: 0.8779\n",
      "Epoch 196/200\n",
      "250/250 [==============================] - 0s 1ms/step - loss: 0.3247 - accuracy: 0.8746\n",
      "Epoch 197/200\n",
      "250/250 [==============================] - 0s 1ms/step - loss: 0.3244 - accuracy: 0.8687\n",
      "Epoch 198/200\n",
      "250/250 [==============================] - 0s 1ms/step - loss: 0.3318 - accuracy: 0.8645\n",
      "Epoch 199/200\n",
      "250/250 [==============================] - 0s 1ms/step - loss: 0.3205 - accuracy: 0.8731\n",
      "Epoch 200/200\n",
      "250/250 [==============================] - 0s 1ms/step - loss: 0.3242 - accuracy: 0.8642\n"
     ]
    },
    {
     "output_type": "execute_result",
     "data": {
      "text/plain": [
       "<tensorflow.python.keras.callbacks.History at 0x24cd33e04c0>"
      ]
     },
     "metadata": {},
     "execution_count": 67
    }
   ],
   "source": [
    "ann.fit(X_train, y_train, batch_size = 32, epochs = 200)"
   ]
  },
  {
   "cell_type": "code",
   "execution_count": 68,
   "metadata": {},
   "outputs": [
    {
     "output_type": "stream",
     "name": "stdout",
     "text": [
      "[[False]]\n"
     ]
    }
   ],
   "source": [
    "print(ann.predict(sc.transform([[1, 0, 0, 600, 1, 40, 3, 60000, 2, 1, 1, 50000]])) > 0.5)"
   ]
  },
  {
   "cell_type": "code",
   "execution_count": 69,
   "metadata": {},
   "outputs": [],
   "source": [
    "y_pred = ann.predict(X_test) > 0.5"
   ]
  },
  {
   "cell_type": "code",
   "execution_count": 70,
   "metadata": {},
   "outputs": [
    {
     "output_type": "stream",
     "name": "stdout",
     "text": [
      "[[0 0]\n [0 1]\n [0 0]\n ...\n [0 0]\n [0 0]\n [0 0]]\n"
     ]
    }
   ],
   "source": [
    "print(np.concatenate((y_pred.reshape(len(y_pred),1), y_test.reshape(len(y_test),1)),1))"
   ]
  },
  {
   "cell_type": "code",
   "execution_count": 71,
   "metadata": {},
   "outputs": [
    {
     "output_type": "stream",
     "name": "stdout",
     "text": [
      "[[1525   70]\n [ 201  204]]\n"
     ]
    },
    {
     "output_type": "execute_result",
     "data": {
      "text/plain": [
       "0.8645"
      ]
     },
     "metadata": {},
     "execution_count": 71
    }
   ],
   "source": [
    "from sklearn.metrics import confusion_matrix, accuracy_score\n",
    "cm = confusion_matrix(y_test, y_pred)\n",
    "print(cm)\n",
    "accuracy_score(y_test, y_pred)"
   ]
  },
  {
   "cell_type": "code",
   "execution_count": null,
   "metadata": {},
   "outputs": [],
   "source": []
  }
 ]
}