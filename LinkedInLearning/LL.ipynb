{
 "metadata": {
  "language_info": {
   "codemirror_mode": {
    "name": "ipython",
    "version": 3
   },
   "file_extension": ".py",
   "mimetype": "text/x-python",
   "name": "python",
   "nbconvert_exporter": "python",
   "pygments_lexer": "ipython3",
   "version": "3.8.0-final"
  },
  "orig_nbformat": 2,
  "kernelspec": {
   "name": "python3",
   "display_name": "Python 3.8.0 64-bit",
   "metadata": {
    "interpreter": {
     "hash": "ac59ebe37160ed0dfa835113d9b8498d9f09ceb179beaac4002f036b9467c963"
    }
   }
  }
 },
 "nbformat": 4,
 "nbformat_minor": 2,
 "cells": [
  {
   "cell_type": "code",
   "execution_count": null,
   "metadata": {},
   "outputs": [],
   "source": [
    "import pandas as pd \n",
    "import numpy as np \n",
    "import matplotlib.pyplot as plt \n",
    "import math \n",
    "import collections"
   ]
  },
  {
   "cell_type": "code",
   "execution_count": null,
   "metadata": {},
   "outputs": [],
   "source": [
    "for i in range (0,10):\n",
    "    print(i)"
   ]
  },
  {
   "cell_type": "code",
   "execution_count": null,
   "metadata": {},
   "outputs": [],
   "source": [
    "for i in range (0,10,2):\n",
    "    print(i)"
   ]
  },
  {
   "cell_type": "code",
   "execution_count": null,
   "metadata": {},
   "outputs": [],
   "source": [
    "for i in range(1+1):\n",
    "    print(i)"
   ]
  },
  {
   "cell_type": "code",
   "execution_count": null,
   "metadata": {},
   "outputs": [],
   "source": [
    "# forming a dollar from change combinations\n",
    "combinations = []\n",
    "for count_100 in range(1+1):\n",
    "    for count_50 in range(2+1):\n",
    "        for count_25 in range(4+1):\n",
    "            for count_10 in range(10+1):\n",
    "                for count_5 in range(20+1):\n",
    "                    for count_1 in range(100+1):\n",
    "                        if 100*count_100 + 50*count_50 + 25*count_25 + 10*count_10 + 5*count_5 + count_1 == 100:\n",
    "                            combinations.append([count_100, count_50, count_25, count_10, count_5, count_1])"
   ]
  },
  {
   "cell_type": "code",
   "execution_count": null,
   "metadata": {},
   "outputs": [],
   "source": [
    "combinations"
   ]
  },
  {
   "cell_type": "code",
   "execution_count": null,
   "metadata": {},
   "outputs": [],
   "source": [
    "len(combinations)"
   ]
  },
  {
   "cell_type": "code",
   "execution_count": null,
   "metadata": {},
   "outputs": [],
   "source": [
    "# Quarters in a dollar\n",
    "for count_25 in range(4+1):\n",
    "    print(count_25)"
   ]
  },
  {
   "cell_type": "code",
   "execution_count": null,
   "metadata": {},
   "outputs": [],
   "source": [
    "# Dollar from quarters\n",
    "for amount_25 in range(0, 101, 25):\n",
    "    print(amount_25)"
   ]
  },
  {
   "cell_type": "code",
   "execution_count": null,
   "metadata": {},
   "outputs": [],
   "source": [
    "combinations = []\n",
    "for amount_100 in range(0,101,100):\n",
    "    for amount_50 in range(0,101,50):\n",
    "        for amount_25 in range(0,101,25):\n",
    "            for amount_10 in range(0,101,10):\n",
    "                for amount_5 in range(0,101,5):\n",
    "                    total_so_far = amount_100 + amount_50 + amount_25 + amount_10 + amount_5 \n",
    "                    if total_so_far <= 100:\n",
    "                            combinations.append([amount_100, amount_50, amount_25, amount_10, amount_5, 100 - total_so_far])"
   ]
  },
  {
   "cell_type": "code",
   "execution_count": null,
   "metadata": {},
   "outputs": [],
   "source": [
    "combinations"
   ]
  },
  {
   "cell_type": "code",
   "execution_count": 22,
   "metadata": {},
   "outputs": [],
   "source": [
    "nephews = ['Huey', 'Dewey', 'Louis']"
   ]
  },
  {
   "cell_type": "code",
   "execution_count": 23,
   "metadata": {},
   "outputs": [
    {
     "output_type": "execute_result",
     "data": {
      "text/plain": [
       "['Huey', 'Dewey', 'Louis']"
      ]
     },
     "metadata": {},
     "execution_count": 23
    }
   ],
   "source": [
    "nephews"
   ]
  },
  {
   "cell_type": "code",
   "execution_count": 24,
   "metadata": {},
   "outputs": [],
   "source": [
    "for i in range(3):\n",
    "    nephews[i] += ' Duck'"
   ]
  },
  {
   "cell_type": "code",
   "execution_count": 25,
   "metadata": {},
   "outputs": [
    {
     "output_type": "execute_result",
     "data": {
      "text/plain": [
       "['Huey Duck', 'Dewey Duck', 'Louis Duck']"
      ]
     },
     "metadata": {},
     "execution_count": 25
    }
   ],
   "source": [
    "nephews"
   ]
  },
  {
   "cell_type": "code",
   "execution_count": 26,
   "metadata": {},
   "outputs": [],
   "source": [
    "nephews.append('April Duck')"
   ]
  },
  {
   "cell_type": "code",
   "execution_count": 27,
   "metadata": {},
   "outputs": [
    {
     "output_type": "execute_result",
     "data": {
      "text/plain": [
       "['Huey Duck', 'Dewey Duck', 'Louis Duck', 'April Duck']"
      ]
     },
     "metadata": {},
     "execution_count": 27
    }
   ],
   "source": [
    "nephews"
   ]
  },
  {
   "cell_type": "code",
   "execution_count": 28,
   "metadata": {},
   "outputs": [],
   "source": [
    "nephews.extend(['May Duck', 'June Duck'])"
   ]
  },
  {
   "cell_type": "code",
   "execution_count": 29,
   "metadata": {},
   "outputs": [
    {
     "output_type": "execute_result",
     "data": {
      "text/plain": [
       "['Huey Duck',\n",
       " 'Dewey Duck',\n",
       " 'Louis Duck',\n",
       " 'April Duck',\n",
       " 'May Duck',\n",
       " 'June Duck']"
      ]
     },
     "metadata": {},
     "execution_count": 29
    }
   ],
   "source": [
    "nephews"
   ]
  },
  {
   "cell_type": "code",
   "execution_count": 30,
   "metadata": {},
   "outputs": [],
   "source": [
    "ducks = nephews +['Donald Duck', 'Daisy Duck']"
   ]
  },
  {
   "cell_type": "code",
   "execution_count": 31,
   "metadata": {},
   "outputs": [
    {
     "output_type": "execute_result",
     "data": {
      "text/plain": [
       "['Huey Duck',\n",
       " 'Dewey Duck',\n",
       " 'Louis Duck',\n",
       " 'April Duck',\n",
       " 'May Duck',\n",
       " 'June Duck',\n",
       " 'Donald Duck',\n",
       " 'Daisy Duck']"
      ]
     },
     "metadata": {},
     "execution_count": 31
    }
   ],
   "source": [
    "ducks"
   ]
  },
  {
   "cell_type": "code",
   "execution_count": 32,
   "metadata": {},
   "outputs": [],
   "source": [
    "ducks.insert(0, 'Scrooge McDuck')"
   ]
  },
  {
   "cell_type": "code",
   "execution_count": 33,
   "metadata": {},
   "outputs": [
    {
     "output_type": "execute_result",
     "data": {
      "text/plain": [
       "['Scrooge McDuck',\n",
       " 'Huey Duck',\n",
       " 'Dewey Duck',\n",
       " 'Louis Duck',\n",
       " 'April Duck',\n",
       " 'May Duck',\n",
       " 'June Duck',\n",
       " 'Donald Duck',\n",
       " 'Daisy Duck']"
      ]
     },
     "metadata": {},
     "execution_count": 33
    }
   ],
   "source": [
    "ducks"
   ]
  },
  {
   "cell_type": "code",
   "execution_count": 34,
   "metadata": {},
   "outputs": [],
   "source": [
    "del ducks[0]"
   ]
  },
  {
   "cell_type": "code",
   "execution_count": 36,
   "metadata": {},
   "outputs": [
    {
     "output_type": "execute_result",
     "data": {
      "text/plain": [
       "['Huey Duck',\n",
       " 'Dewey Duck',\n",
       " 'Louis Duck',\n",
       " 'April Duck',\n",
       " 'May Duck',\n",
       " 'June Duck',\n",
       " 'Donald Duck',\n",
       " 'Daisy Duck']"
      ]
     },
     "metadata": {},
     "execution_count": 36
    }
   ],
   "source": [
    "ducks"
   ]
  },
  {
   "cell_type": "code",
   "execution_count": 37,
   "metadata": {},
   "outputs": [],
   "source": [
    "ducks.sort()"
   ]
  },
  {
   "cell_type": "code",
   "execution_count": 38,
   "metadata": {},
   "outputs": [
    {
     "output_type": "execute_result",
     "data": {
      "text/plain": [
       "['April Duck',\n",
       " 'Daisy Duck',\n",
       " 'Dewey Duck',\n",
       " 'Donald Duck',\n",
       " 'Huey Duck',\n",
       " 'June Duck',\n",
       " 'Louis Duck',\n",
       " 'May Duck']"
      ]
     },
     "metadata": {},
     "execution_count": 38
    }
   ],
   "source": [
    "ducks"
   ]
  },
  {
   "cell_type": "code",
   "execution_count": 39,
   "metadata": {},
   "outputs": [],
   "source": [
    "squares = [1,4,9,16,25,36,49]"
   ]
  },
  {
   "cell_type": "code",
   "execution_count": 40,
   "metadata": {},
   "outputs": [
    {
     "output_type": "execute_result",
     "data": {
      "text/plain": [
       "[1, 4]"
      ]
     },
     "metadata": {},
     "execution_count": 40
    }
   ],
   "source": [
    "squares[0:2]"
   ]
  },
  {
   "cell_type": "code",
   "execution_count": 41,
   "metadata": {},
   "outputs": [
    {
     "output_type": "execute_result",
     "data": {
      "text/plain": [
       "[1, 4, 9, 16]"
      ]
     },
     "metadata": {},
     "execution_count": 41
    }
   ],
   "source": [
    "squares[:4]"
   ]
  },
  {
   "cell_type": "code",
   "execution_count": null,
   "metadata": {},
   "outputs": [],
   "source": []
  }
 ]
}