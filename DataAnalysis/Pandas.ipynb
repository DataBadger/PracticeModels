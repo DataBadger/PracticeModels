{
 "metadata": {
  "language_info": {
   "codemirror_mode": {
    "name": "ipython",
    "version": 3
   },
   "file_extension": ".py",
   "mimetype": "text/x-python",
   "name": "python",
   "nbconvert_exporter": "python",
   "pygments_lexer": "ipython3",
   "version": "3.8.0-final"
  },
  "orig_nbformat": 2,
  "kernelspec": {
   "name": "python3",
   "display_name": "Python 3.8.0 64-bit",
   "metadata": {
    "interpreter": {
     "hash": "ac59ebe37160ed0dfa835113d9b8498d9f09ceb179beaac4002f036b9467c963"
    }
   }
  }
 },
 "nbformat": 4,
 "nbformat_minor": 2,
 "cells": [
  {
   "cell_type": "code",
   "execution_count": 1,
   "metadata": {},
   "outputs": [],
   "source": [
    "import pandas as pd\n",
    "import numpy as np "
   ]
  },
  {
   "source": [
    "### Pandas Series"
   ],
   "cell_type": "markdown",
   "metadata": {}
  },
  {
   "cell_type": "code",
   "execution_count": 3,
   "metadata": {},
   "outputs": [],
   "source": [
    "g7_pop  = pd.Series([35.467, 63.951, 80.940, 60.665, 127.061, 64.511, 318.523])"
   ]
  },
  {
   "cell_type": "code",
   "execution_count": 4,
   "metadata": {},
   "outputs": [
    {
     "output_type": "execute_result",
     "data": {
      "text/plain": [
       "0     35.467\n",
       "1     63.951\n",
       "2     80.940\n",
       "3     60.665\n",
       "4    127.061\n",
       "5     64.511\n",
       "6    318.523\n",
       "dtype: float64"
      ]
     },
     "metadata": {},
     "execution_count": 4
    }
   ],
   "source": [
    "g7_pop"
   ]
  },
  {
   "cell_type": "code",
   "execution_count": 5,
   "metadata": {},
   "outputs": [],
   "source": [
    "g7_pop.name = 'G7 Population in millions'"
   ]
  },
  {
   "cell_type": "code",
   "execution_count": 6,
   "metadata": {},
   "outputs": [
    {
     "output_type": "execute_result",
     "data": {
      "text/plain": [
       "0     35.467\n",
       "1     63.951\n",
       "2     80.940\n",
       "3     60.665\n",
       "4    127.061\n",
       "5     64.511\n",
       "6    318.523\n",
       "Name: G7 Population in millions, dtype: float64"
      ]
     },
     "metadata": {},
     "execution_count": 6
    }
   ],
   "source": [
    "g7_pop"
   ]
  },
  {
   "cell_type": "code",
   "execution_count": 7,
   "metadata": {},
   "outputs": [
    {
     "output_type": "execute_result",
     "data": {
      "text/plain": [
       "dtype('float64')"
      ]
     },
     "metadata": {},
     "execution_count": 7
    }
   ],
   "source": [
    "g7_pop.dtype"
   ]
  },
  {
   "cell_type": "code",
   "execution_count": 8,
   "metadata": {},
   "outputs": [
    {
     "output_type": "execute_result",
     "data": {
      "text/plain": [
       "array([ 35.467,  63.951,  80.94 ,  60.665, 127.061,  64.511, 318.523])"
      ]
     },
     "metadata": {},
     "execution_count": 8
    }
   ],
   "source": [
    "g7_pop.values"
   ]
  },
  {
   "cell_type": "code",
   "execution_count": 9,
   "metadata": {},
   "outputs": [
    {
     "output_type": "execute_result",
     "data": {
      "text/plain": [
       "numpy.ndarray"
      ]
     },
     "metadata": {},
     "execution_count": 9
    }
   ],
   "source": [
    "type(g7_pop.values)"
   ]
  },
  {
   "cell_type": "code",
   "execution_count": 10,
   "metadata": {},
   "outputs": [
    {
     "output_type": "execute_result",
     "data": {
      "text/plain": [
       "35.467"
      ]
     },
     "metadata": {},
     "execution_count": 10
    }
   ],
   "source": [
    "g7_pop[0]"
   ]
  },
  {
   "cell_type": "code",
   "execution_count": 11,
   "metadata": {},
   "outputs": [
    {
     "output_type": "execute_result",
     "data": {
      "text/plain": [
       "RangeIndex(start=0, stop=7, step=1)"
      ]
     },
     "metadata": {},
     "execution_count": 11
    }
   ],
   "source": [
    "g7_pop.index"
   ]
  },
  {
   "cell_type": "code",
   "execution_count": 12,
   "metadata": {},
   "outputs": [],
   "source": [
    "g7_pop.index =[\n",
    "    'Canada',\n",
    "    'France',\n",
    "    'Germany',\n",
    "    'Italy',\n",
    "    'Japan',\n",
    "    'United Kingdom',\n",
    "    'United States'\n",
    "]"
   ]
  },
  {
   "cell_type": "code",
   "execution_count": 13,
   "metadata": {},
   "outputs": [
    {
     "output_type": "execute_result",
     "data": {
      "text/plain": [
       "Canada             35.467\n",
       "France             63.951\n",
       "Germany            80.940\n",
       "Italy              60.665\n",
       "Japan             127.061\n",
       "United Kingdom     64.511\n",
       "United States     318.523\n",
       "Name: G7 Population in millions, dtype: float64"
      ]
     },
     "metadata": {},
     "execution_count": 13
    }
   ],
   "source": [
    "g7_pop"
   ]
  },
  {
   "source": [
    "### Indexing"
   ],
   "cell_type": "markdown",
   "metadata": {}
  },
  {
   "cell_type": "code",
   "execution_count": 14,
   "metadata": {},
   "outputs": [
    {
     "output_type": "execute_result",
     "data": {
      "text/plain": [
       "Canada             35.467\n",
       "France             63.951\n",
       "Germany            80.940\n",
       "Italy              60.665\n",
       "Japan             127.061\n",
       "United Kingdom     64.511\n",
       "United States     318.523\n",
       "Name: G7 Population in millions, dtype: float64"
      ]
     },
     "metadata": {},
     "execution_count": 14
    }
   ],
   "source": [
    "g7_pop"
   ]
  },
  {
   "cell_type": "code",
   "execution_count": 15,
   "metadata": {},
   "outputs": [
    {
     "output_type": "execute_result",
     "data": {
      "text/plain": [
       "35.467"
      ]
     },
     "metadata": {},
     "execution_count": 15
    }
   ],
   "source": [
    "g7_pop['Canada']"
   ]
  },
  {
   "cell_type": "code",
   "execution_count": 16,
   "metadata": {},
   "outputs": [
    {
     "output_type": "execute_result",
     "data": {
      "text/plain": [
       "127.061"
      ]
     },
     "metadata": {},
     "execution_count": 16
    }
   ],
   "source": [
    "g7_pop['Japan']"
   ]
  },
  {
   "cell_type": "code",
   "execution_count": 17,
   "metadata": {},
   "outputs": [
    {
     "output_type": "execute_result",
     "data": {
      "text/plain": [
       "35.467"
      ]
     },
     "metadata": {},
     "execution_count": 17
    }
   ],
   "source": [
    "g7_pop.iloc[0]"
   ]
  },
  {
   "cell_type": "code",
   "execution_count": 18,
   "metadata": {},
   "outputs": [
    {
     "output_type": "execute_result",
     "data": {
      "text/plain": [
       "318.523"
      ]
     },
     "metadata": {},
     "execution_count": 18
    }
   ],
   "source": [
    "g7_pop.iloc[-1]"
   ]
  },
  {
   "cell_type": "code",
   "execution_count": 19,
   "metadata": {},
   "outputs": [
    {
     "output_type": "execute_result",
     "data": {
      "text/plain": [
       "Italy     60.665\n",
       "France    63.951\n",
       "Name: G7 Population in millions, dtype: float64"
      ]
     },
     "metadata": {},
     "execution_count": 19
    }
   ],
   "source": [
    "g7_pop[['Italy', 'France']]"
   ]
  },
  {
   "cell_type": "code",
   "execution_count": 21,
   "metadata": {},
   "outputs": [
    {
     "output_type": "execute_result",
     "data": {
      "text/plain": [
       "Canada    35.467\n",
       "France    63.951\n",
       "Name: G7 Population in millions, dtype: float64"
      ]
     },
     "metadata": {},
     "execution_count": 21
    }
   ],
   "source": [
    "g7_pop.iloc[[0,1]]"
   ]
  },
  {
   "cell_type": "code",
   "execution_count": 22,
   "metadata": {},
   "outputs": [
    {
     "output_type": "execute_result",
     "data": {
      "text/plain": [
       "Canada     35.467\n",
       "France     63.951\n",
       "Germany    80.940\n",
       "Italy      60.665\n",
       "Name: G7 Population in millions, dtype: float64"
      ]
     },
     "metadata": {},
     "execution_count": 22
    }
   ],
   "source": [
    "g7_pop['Canada':'Italy']"
   ]
  },
  {
   "source": [
    "### Conditional Selection (boolean arrays)"
   ],
   "cell_type": "markdown",
   "metadata": {}
  },
  {
   "cell_type": "code",
   "execution_count": 23,
   "metadata": {},
   "outputs": [
    {
     "output_type": "execute_result",
     "data": {
      "text/plain": [
       "Canada            False\n",
       "France            False\n",
       "Germany            True\n",
       "Italy             False\n",
       "Japan              True\n",
       "United Kingdom    False\n",
       "United States      True\n",
       "Name: G7 Population in millions, dtype: bool"
      ]
     },
     "metadata": {},
     "execution_count": 23
    }
   ],
   "source": [
    "g7_pop > 70"
   ]
  },
  {
   "cell_type": "code",
   "execution_count": 24,
   "metadata": {},
   "outputs": [
    {
     "output_type": "execute_result",
     "data": {
      "text/plain": [
       "Canada             35467000.0\n",
       "France             63951000.0\n",
       "Germany            80940000.0\n",
       "Italy              60665000.0\n",
       "Japan             127061000.0\n",
       "United Kingdom     64511000.0\n",
       "United States     318523000.0\n",
       "Name: G7 Population in millions, dtype: float64"
      ]
     },
     "metadata": {},
     "execution_count": 24
    }
   ],
   "source": [
    "g7_pop * 1000000"
   ]
  },
  {
   "cell_type": "code",
   "execution_count": 25,
   "metadata": {},
   "outputs": [
    {
     "output_type": "execute_result",
     "data": {
      "text/plain": [
       "107.30257142857144"
      ]
     },
     "metadata": {},
     "execution_count": 25
    }
   ],
   "source": [
    "g7_pop.mean()"
   ]
  },
  {
   "cell_type": "code",
   "execution_count": 26,
   "metadata": {},
   "outputs": [
    {
     "output_type": "stream",
     "name": "stdout",
     "text": [
      "Germany           80.940\nJapan            127.061\nUnited States    318.523\nName: G7 Population in millions, dtype: float64\n"
     ]
    }
   ],
   "source": [
    "print(g7_pop[g7_pop > 70])"
   ]
  },
  {
   "cell_type": "code",
   "execution_count": 27,
   "metadata": {},
   "outputs": [
    {
     "output_type": "execute_result",
     "data": {
      "text/plain": [
       "Canada            3.568603\n",
       "France            4.158117\n",
       "Germany           4.393708\n",
       "Italy             4.105367\n",
       "Japan             4.844667\n",
       "United Kingdom    4.166836\n",
       "United States     5.763695\n",
       "Name: G7 Population in millions, dtype: float64"
      ]
     },
     "metadata": {},
     "execution_count": 27
    }
   ],
   "source": [
    "np.log(g7_pop)"
   ]
  },
  {
   "cell_type": "code",
   "execution_count": 28,
   "metadata": {},
   "outputs": [],
   "source": [
    "g7_pop['Canada'] = 40.5"
   ]
  },
  {
   "cell_type": "code",
   "execution_count": 29,
   "metadata": {},
   "outputs": [
    {
     "output_type": "execute_result",
     "data": {
      "text/plain": [
       "Canada             40.500\n",
       "France             63.951\n",
       "Germany            80.940\n",
       "Italy              60.665\n",
       "Japan             127.061\n",
       "United Kingdom     64.511\n",
       "United States     318.523\n",
       "Name: G7 Population in millions, dtype: float64"
      ]
     },
     "metadata": {},
     "execution_count": 29
    }
   ],
   "source": [
    "g7_pop"
   ]
  },
  {
   "source": [
    "### Data Frames"
   ],
   "cell_type": "markdown",
   "metadata": {}
  },
  {
   "cell_type": "code",
   "execution_count": 30,
   "metadata": {},
   "outputs": [],
   "source": [
    "df = pd.DataFrame({\n",
    "    'Population': [35.467, 63.951, 80.94 , 60.665, 127.061, 64.511, 318.523],\n",
    "    'GDP': [\n",
    "        1785387,\n",
    "        2833687,\n",
    "        3874437,\n",
    "        2167744,\n",
    "        4602367,\n",
    "        2950039,\n",
    "        17348075\n",
    "    ],\n",
    "    'Surface Area': [\n",
    "        9984670,\n",
    "        640679,\n",
    "        357114,\n",
    "        301336,\n",
    "        377930,\n",
    "        242495,\n",
    "        9525067\n",
    "    ],\n",
    "    'HDI': [\n",
    "        0.913,\n",
    "        0.888,\n",
    "        0.916,\n",
    "        0.873,\n",
    "        0.891,\n",
    "        0.907,\n",
    "        0.915\n",
    "    ],\n",
    "    'Continent': [\n",
    "        'America',\n",
    "        'Europe',\n",
    "        'Europe',\n",
    "        'Europe',\n",
    "        'Asia',\n",
    "        'Europe',\n",
    "        'America'\n",
    "    ]\n",
    "}, columns=['Population', 'GDP', 'Surface Area', 'HDI', 'Continent'])"
   ]
  },
  {
   "cell_type": "code",
   "execution_count": 31,
   "metadata": {},
   "outputs": [
    {
     "output_type": "execute_result",
     "data": {
      "text/plain": [
       "   Population       GDP  Surface Area    HDI Continent\n",
       "0      35.467   1785387       9984670  0.913   America\n",
       "1      63.951   2833687        640679  0.888    Europe\n",
       "2      80.940   3874437        357114  0.916    Europe\n",
       "3      60.665   2167744        301336  0.873    Europe\n",
       "4     127.061   4602367        377930  0.891      Asia\n",
       "5      64.511   2950039        242495  0.907    Europe\n",
       "6     318.523  17348075       9525067  0.915   America"
      ],
      "text/html": "<div>\n<style scoped>\n    .dataframe tbody tr th:only-of-type {\n        vertical-align: middle;\n    }\n\n    .dataframe tbody tr th {\n        vertical-align: top;\n    }\n\n    .dataframe thead th {\n        text-align: right;\n    }\n</style>\n<table border=\"1\" class=\"dataframe\">\n  <thead>\n    <tr style=\"text-align: right;\">\n      <th></th>\n      <th>Population</th>\n      <th>GDP</th>\n      <th>Surface Area</th>\n      <th>HDI</th>\n      <th>Continent</th>\n    </tr>\n  </thead>\n  <tbody>\n    <tr>\n      <th>0</th>\n      <td>35.467</td>\n      <td>1785387</td>\n      <td>9984670</td>\n      <td>0.913</td>\n      <td>America</td>\n    </tr>\n    <tr>\n      <th>1</th>\n      <td>63.951</td>\n      <td>2833687</td>\n      <td>640679</td>\n      <td>0.888</td>\n      <td>Europe</td>\n    </tr>\n    <tr>\n      <th>2</th>\n      <td>80.940</td>\n      <td>3874437</td>\n      <td>357114</td>\n      <td>0.916</td>\n      <td>Europe</td>\n    </tr>\n    <tr>\n      <th>3</th>\n      <td>60.665</td>\n      <td>2167744</td>\n      <td>301336</td>\n      <td>0.873</td>\n      <td>Europe</td>\n    </tr>\n    <tr>\n      <th>4</th>\n      <td>127.061</td>\n      <td>4602367</td>\n      <td>377930</td>\n      <td>0.891</td>\n      <td>Asia</td>\n    </tr>\n    <tr>\n      <th>5</th>\n      <td>64.511</td>\n      <td>2950039</td>\n      <td>242495</td>\n      <td>0.907</td>\n      <td>Europe</td>\n    </tr>\n    <tr>\n      <th>6</th>\n      <td>318.523</td>\n      <td>17348075</td>\n      <td>9525067</td>\n      <td>0.915</td>\n      <td>America</td>\n    </tr>\n  </tbody>\n</table>\n</div>"
     },
     "metadata": {},
     "execution_count": 31
    }
   ],
   "source": [
    "df"
   ]
  },
  {
   "cell_type": "code",
   "execution_count": 32,
   "metadata": {},
   "outputs": [],
   "source": [
    "df.index = [\n",
    "    'Canada',\n",
    "    'France',\n",
    "    'Germany',\n",
    "    'Italy',\n",
    "    'Japan',\n",
    "    'United Kingdom',\n",
    "    'United States'\n",
    "]"
   ]
  },
  {
   "cell_type": "code",
   "execution_count": 33,
   "metadata": {},
   "outputs": [
    {
     "output_type": "execute_result",
     "data": {
      "text/plain": [
       "                Population       GDP  Surface Area    HDI Continent\n",
       "Canada              35.467   1785387       9984670  0.913   America\n",
       "France              63.951   2833687        640679  0.888    Europe\n",
       "Germany             80.940   3874437        357114  0.916    Europe\n",
       "Italy               60.665   2167744        301336  0.873    Europe\n",
       "Japan              127.061   4602367        377930  0.891      Asia\n",
       "United Kingdom      64.511   2950039        242495  0.907    Europe\n",
       "United States      318.523  17348075       9525067  0.915   America"
      ],
      "text/html": "<div>\n<style scoped>\n    .dataframe tbody tr th:only-of-type {\n        vertical-align: middle;\n    }\n\n    .dataframe tbody tr th {\n        vertical-align: top;\n    }\n\n    .dataframe thead th {\n        text-align: right;\n    }\n</style>\n<table border=\"1\" class=\"dataframe\">\n  <thead>\n    <tr style=\"text-align: right;\">\n      <th></th>\n      <th>Population</th>\n      <th>GDP</th>\n      <th>Surface Area</th>\n      <th>HDI</th>\n      <th>Continent</th>\n    </tr>\n  </thead>\n  <tbody>\n    <tr>\n      <th>Canada</th>\n      <td>35.467</td>\n      <td>1785387</td>\n      <td>9984670</td>\n      <td>0.913</td>\n      <td>America</td>\n    </tr>\n    <tr>\n      <th>France</th>\n      <td>63.951</td>\n      <td>2833687</td>\n      <td>640679</td>\n      <td>0.888</td>\n      <td>Europe</td>\n    </tr>\n    <tr>\n      <th>Germany</th>\n      <td>80.940</td>\n      <td>3874437</td>\n      <td>357114</td>\n      <td>0.916</td>\n      <td>Europe</td>\n    </tr>\n    <tr>\n      <th>Italy</th>\n      <td>60.665</td>\n      <td>2167744</td>\n      <td>301336</td>\n      <td>0.873</td>\n      <td>Europe</td>\n    </tr>\n    <tr>\n      <th>Japan</th>\n      <td>127.061</td>\n      <td>4602367</td>\n      <td>377930</td>\n      <td>0.891</td>\n      <td>Asia</td>\n    </tr>\n    <tr>\n      <th>United Kingdom</th>\n      <td>64.511</td>\n      <td>2950039</td>\n      <td>242495</td>\n      <td>0.907</td>\n      <td>Europe</td>\n    </tr>\n    <tr>\n      <th>United States</th>\n      <td>318.523</td>\n      <td>17348075</td>\n      <td>9525067</td>\n      <td>0.915</td>\n      <td>America</td>\n    </tr>\n  </tbody>\n</table>\n</div>"
     },
     "metadata": {},
     "execution_count": 33
    }
   ],
   "source": [
    "df"
   ]
  },
  {
   "cell_type": "code",
   "execution_count": 34,
   "metadata": {},
   "outputs": [
    {
     "output_type": "execute_result",
     "data": {
      "text/plain": [
       "Index(['Population', 'GDP', 'Surface Area', 'HDI', 'Continent'], dtype='object')"
      ]
     },
     "metadata": {},
     "execution_count": 34
    }
   ],
   "source": [
    "df.columns"
   ]
  },
  {
   "cell_type": "code",
   "execution_count": 35,
   "metadata": {},
   "outputs": [
    {
     "output_type": "execute_result",
     "data": {
      "text/plain": [
       "Index(['Canada', 'France', 'Germany', 'Italy', 'Japan', 'United Kingdom',\n",
       "       'United States'],\n",
       "      dtype='object')"
      ]
     },
     "metadata": {},
     "execution_count": 35
    }
   ],
   "source": [
    "df.index"
   ]
  },
  {
   "cell_type": "code",
   "execution_count": 36,
   "metadata": {},
   "outputs": [
    {
     "output_type": "stream",
     "name": "stdout",
     "text": [
      "<class 'pandas.core.frame.DataFrame'>\nIndex: 7 entries, Canada to United States\nData columns (total 5 columns):\n #   Column        Non-Null Count  Dtype  \n---  ------        --------------  -----  \n 0   Population    7 non-null      float64\n 1   GDP           7 non-null      int64  \n 2   Surface Area  7 non-null      int64  \n 3   HDI           7 non-null      float64\n 4   Continent     7 non-null      object \ndtypes: float64(2), int64(2), object(1)\nmemory usage: 336.0+ bytes\n"
     ]
    }
   ],
   "source": [
    "df.info()"
   ]
  },
  {
   "cell_type": "code",
   "execution_count": 37,
   "metadata": {},
   "outputs": [
    {
     "output_type": "execute_result",
     "data": {
      "text/plain": [
       "35"
      ]
     },
     "metadata": {},
     "execution_count": 37
    }
   ],
   "source": [
    "df.size"
   ]
  },
  {
   "cell_type": "code",
   "execution_count": 38,
   "metadata": {},
   "outputs": [
    {
     "output_type": "execute_result",
     "data": {
      "text/plain": [
       "(7, 5)"
      ]
     },
     "metadata": {},
     "execution_count": 38
    }
   ],
   "source": [
    "df.shape"
   ]
  },
  {
   "cell_type": "code",
   "execution_count": 39,
   "metadata": {},
   "outputs": [
    {
     "output_type": "execute_result",
     "data": {
      "text/plain": [
       "       Population           GDP  Surface Area       HDI\n",
       "count    7.000000  7.000000e+00  7.000000e+00  7.000000\n",
       "mean   107.302571  5.080248e+06  3.061327e+06  0.900429\n",
       "std     97.249970  5.494020e+06  4.576187e+06  0.016592\n",
       "min     35.467000  1.785387e+06  2.424950e+05  0.873000\n",
       "25%     62.308000  2.500716e+06  3.292250e+05  0.889500\n",
       "50%     64.511000  2.950039e+06  3.779300e+05  0.907000\n",
       "75%    104.000500  4.238402e+06  5.082873e+06  0.914000\n",
       "max    318.523000  1.734808e+07  9.984670e+06  0.916000"
      ],
      "text/html": "<div>\n<style scoped>\n    .dataframe tbody tr th:only-of-type {\n        vertical-align: middle;\n    }\n\n    .dataframe tbody tr th {\n        vertical-align: top;\n    }\n\n    .dataframe thead th {\n        text-align: right;\n    }\n</style>\n<table border=\"1\" class=\"dataframe\">\n  <thead>\n    <tr style=\"text-align: right;\">\n      <th></th>\n      <th>Population</th>\n      <th>GDP</th>\n      <th>Surface Area</th>\n      <th>HDI</th>\n    </tr>\n  </thead>\n  <tbody>\n    <tr>\n      <th>count</th>\n      <td>7.000000</td>\n      <td>7.000000e+00</td>\n      <td>7.000000e+00</td>\n      <td>7.000000</td>\n    </tr>\n    <tr>\n      <th>mean</th>\n      <td>107.302571</td>\n      <td>5.080248e+06</td>\n      <td>3.061327e+06</td>\n      <td>0.900429</td>\n    </tr>\n    <tr>\n      <th>std</th>\n      <td>97.249970</td>\n      <td>5.494020e+06</td>\n      <td>4.576187e+06</td>\n      <td>0.016592</td>\n    </tr>\n    <tr>\n      <th>min</th>\n      <td>35.467000</td>\n      <td>1.785387e+06</td>\n      <td>2.424950e+05</td>\n      <td>0.873000</td>\n    </tr>\n    <tr>\n      <th>25%</th>\n      <td>62.308000</td>\n      <td>2.500716e+06</td>\n      <td>3.292250e+05</td>\n      <td>0.889500</td>\n    </tr>\n    <tr>\n      <th>50%</th>\n      <td>64.511000</td>\n      <td>2.950039e+06</td>\n      <td>3.779300e+05</td>\n      <td>0.907000</td>\n    </tr>\n    <tr>\n      <th>75%</th>\n      <td>104.000500</td>\n      <td>4.238402e+06</td>\n      <td>5.082873e+06</td>\n      <td>0.914000</td>\n    </tr>\n    <tr>\n      <th>max</th>\n      <td>318.523000</td>\n      <td>1.734808e+07</td>\n      <td>9.984670e+06</td>\n      <td>0.916000</td>\n    </tr>\n  </tbody>\n</table>\n</div>"
     },
     "metadata": {},
     "execution_count": 39
    }
   ],
   "source": [
    "df.describe()"
   ]
  },
  {
   "cell_type": "code",
   "execution_count": 40,
   "metadata": {},
   "outputs": [
    {
     "output_type": "execute_result",
     "data": {
      "text/plain": [
       "Population      float64\n",
       "GDP               int64\n",
       "Surface Area      int64\n",
       "HDI             float64\n",
       "Continent        object\n",
       "dtype: object"
      ]
     },
     "metadata": {},
     "execution_count": 40
    }
   ],
   "source": [
    "df.dtypes"
   ]
  },
  {
   "cell_type": "code",
   "execution_count": 42,
   "metadata": {},
   "outputs": [
    {
     "output_type": "execute_result",
     "data": {
      "text/plain": [
       "int64      2\n",
       "float64    2\n",
       "object     1\n",
       "dtype: int64"
      ]
     },
     "metadata": {},
     "execution_count": 42
    }
   ],
   "source": [
    "df.dtypes.value_counts()"
   ]
  },
  {
   "source": [
    "### Indexing, Selection and Slicing"
   ],
   "cell_type": "markdown",
   "metadata": {}
  },
  {
   "cell_type": "code",
   "execution_count": 44,
   "metadata": {},
   "outputs": [
    {
     "output_type": "execute_result",
     "data": {
      "text/plain": [
       "Canada             35.467\n",
       "France             63.951\n",
       "Germany            80.940\n",
       "Italy              60.665\n",
       "Japan             127.061\n",
       "United Kingdom     64.511\n",
       "United States     318.523\n",
       "Name: Population, dtype: float64"
      ]
     },
     "metadata": {},
     "execution_count": 44
    }
   ],
   "source": [
    "df['Population']"
   ]
  },
  {
   "cell_type": "code",
   "execution_count": 49,
   "metadata": {},
   "outputs": [],
   "source": [
    "df['m2 per person'] = df['Surface Area']/(df['Population']*1000000)"
   ]
  },
  {
   "cell_type": "code",
   "execution_count": 50,
   "metadata": {},
   "outputs": [
    {
     "output_type": "execute_result",
     "data": {
      "text/plain": [
       "                Population       GDP  Surface Area    HDI Continent  \\\n",
       "Canada              35.467   1785387       9984670  0.913   America   \n",
       "France              63.951   2833687        640679  0.888    Europe   \n",
       "Germany             80.940   3874437        357114  0.916    Europe   \n",
       "Italy               60.665   2167744        301336  0.873    Europe   \n",
       "Japan              127.061   4602367        377930  0.891      Asia   \n",
       "United Kingdom      64.511   2950039        242495  0.907    Europe   \n",
       "United States      318.523  17348075       9525067  0.915   America   \n",
       "\n",
       "                m2 per person  \n",
       "Canada               0.281520  \n",
       "France               0.010018  \n",
       "Germany              0.004412  \n",
       "Italy                0.004967  \n",
       "Japan                0.002974  \n",
       "United Kingdom       0.003759  \n",
       "United States        0.029904  "
      ],
      "text/html": "<div>\n<style scoped>\n    .dataframe tbody tr th:only-of-type {\n        vertical-align: middle;\n    }\n\n    .dataframe tbody tr th {\n        vertical-align: top;\n    }\n\n    .dataframe thead th {\n        text-align: right;\n    }\n</style>\n<table border=\"1\" class=\"dataframe\">\n  <thead>\n    <tr style=\"text-align: right;\">\n      <th></th>\n      <th>Population</th>\n      <th>GDP</th>\n      <th>Surface Area</th>\n      <th>HDI</th>\n      <th>Continent</th>\n      <th>m2 per person</th>\n    </tr>\n  </thead>\n  <tbody>\n    <tr>\n      <th>Canada</th>\n      <td>35.467</td>\n      <td>1785387</td>\n      <td>9984670</td>\n      <td>0.913</td>\n      <td>America</td>\n      <td>0.281520</td>\n    </tr>\n    <tr>\n      <th>France</th>\n      <td>63.951</td>\n      <td>2833687</td>\n      <td>640679</td>\n      <td>0.888</td>\n      <td>Europe</td>\n      <td>0.010018</td>\n    </tr>\n    <tr>\n      <th>Germany</th>\n      <td>80.940</td>\n      <td>3874437</td>\n      <td>357114</td>\n      <td>0.916</td>\n      <td>Europe</td>\n      <td>0.004412</td>\n    </tr>\n    <tr>\n      <th>Italy</th>\n      <td>60.665</td>\n      <td>2167744</td>\n      <td>301336</td>\n      <td>0.873</td>\n      <td>Europe</td>\n      <td>0.004967</td>\n    </tr>\n    <tr>\n      <th>Japan</th>\n      <td>127.061</td>\n      <td>4602367</td>\n      <td>377930</td>\n      <td>0.891</td>\n      <td>Asia</td>\n      <td>0.002974</td>\n    </tr>\n    <tr>\n      <th>United Kingdom</th>\n      <td>64.511</td>\n      <td>2950039</td>\n      <td>242495</td>\n      <td>0.907</td>\n      <td>Europe</td>\n      <td>0.003759</td>\n    </tr>\n    <tr>\n      <th>United States</th>\n      <td>318.523</td>\n      <td>17348075</td>\n      <td>9525067</td>\n      <td>0.915</td>\n      <td>America</td>\n      <td>0.029904</td>\n    </tr>\n  </tbody>\n</table>\n</div>"
     },
     "metadata": {},
     "execution_count": 50
    }
   ],
   "source": [
    "df"
   ]
  },
  {
   "cell_type": "code",
   "execution_count": 51,
   "metadata": {},
   "outputs": [
    {
     "output_type": "execute_result",
     "data": {
      "text/plain": [
       "                Population\n",
       "Canada              35.467\n",
       "France              63.951\n",
       "Germany             80.940\n",
       "Italy               60.665\n",
       "Japan              127.061\n",
       "United Kingdom      64.511\n",
       "United States      318.523"
      ],
      "text/html": "<div>\n<style scoped>\n    .dataframe tbody tr th:only-of-type {\n        vertical-align: middle;\n    }\n\n    .dataframe tbody tr th {\n        vertical-align: top;\n    }\n\n    .dataframe thead th {\n        text-align: right;\n    }\n</style>\n<table border=\"1\" class=\"dataframe\">\n  <thead>\n    <tr style=\"text-align: right;\">\n      <th></th>\n      <th>Population</th>\n    </tr>\n  </thead>\n  <tbody>\n    <tr>\n      <th>Canada</th>\n      <td>35.467</td>\n    </tr>\n    <tr>\n      <th>France</th>\n      <td>63.951</td>\n    </tr>\n    <tr>\n      <th>Germany</th>\n      <td>80.940</td>\n    </tr>\n    <tr>\n      <th>Italy</th>\n      <td>60.665</td>\n    </tr>\n    <tr>\n      <th>Japan</th>\n      <td>127.061</td>\n    </tr>\n    <tr>\n      <th>United Kingdom</th>\n      <td>64.511</td>\n    </tr>\n    <tr>\n      <th>United States</th>\n      <td>318.523</td>\n    </tr>\n  </tbody>\n</table>\n</div>"
     },
     "metadata": {},
     "execution_count": 51
    }
   ],
   "source": [
    "df['Population'].to_frame()"
   ]
  },
  {
   "cell_type": "code",
   "execution_count": 52,
   "metadata": {},
   "outputs": [
    {
     "output_type": "execute_result",
     "data": {
      "text/plain": [
       "               Population  m2 per person\n",
       "United States     318.523       0.029904\n",
       "Canada             35.467       0.281520"
      ],
      "text/html": "<div>\n<style scoped>\n    .dataframe tbody tr th:only-of-type {\n        vertical-align: middle;\n    }\n\n    .dataframe tbody tr th {\n        vertical-align: top;\n    }\n\n    .dataframe thead th {\n        text-align: right;\n    }\n</style>\n<table border=\"1\" class=\"dataframe\">\n  <thead>\n    <tr style=\"text-align: right;\">\n      <th></th>\n      <th>Population</th>\n      <th>m2 per person</th>\n    </tr>\n  </thead>\n  <tbody>\n    <tr>\n      <th>United States</th>\n      <td>318.523</td>\n      <td>0.029904</td>\n    </tr>\n    <tr>\n      <th>Canada</th>\n      <td>35.467</td>\n      <td>0.281520</td>\n    </tr>\n  </tbody>\n</table>\n</div>"
     },
     "metadata": {},
     "execution_count": 52
    }
   ],
   "source": [
    "df.iloc[[-1,0],[0,-1]]"
   ]
  },
  {
   "cell_type": "code",
   "execution_count": null,
   "metadata": {},
   "outputs": [],
   "source": []
  }
 ]
}